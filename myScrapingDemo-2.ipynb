{
 "metadata": {
  "name": "",
  "signature": "sha256:97c14910f43eabaef013a9fef437ff067bccbdc81ce62385b185faec558d8242"
 },
 "nbformat": 3,
 "nbformat_minor": 0,
 "worksheets": [
  {
   "cells": [
    {
     "cell_type": "code",
     "collapsed": false,
     "input": [
      "import numpy as np\n",
      "import pandas as pd\n",
      "import matplotlib.pyplot as plt\n",
      "from pattern import web\n",
      "import requests\n",
      "from BeautifulSoup import BeautifulSoup "
     ],
     "language": "python",
     "metadata": {},
     "outputs": [],
     "prompt_number": 12
    },
    {
     "cell_type": "code",
     "collapsed": false,
     "input": [
      "pd.set_option('display.width', 500)\n",
      "pd.set_option('display.max_columns', 100)\n",
      "def remove_border(axes = None, top=False, right = False, left = True, bottom = True):\n",
      "    ax = axes or plt.gca()\n",
      "    ax.spines['top'].set_visible(top)\n",
      "    ax.spines['right'].set_visible(right)\n",
      "    ax.spines['left'].set_visible(left)\n",
      "    ax.spines['bottom'].set_visible(bottom)\n",
      "    \n",
      "    #turn off all ticks\n",
      "    ax.yaxis.set_ticks_position('none')\n",
      "    ax.xaxis.set_ticks_position('none')\n",
      "    \n",
      "    #now re-enable visibles\n",
      "    if top:\n",
      "        ax.xaxis.tick_top()\n",
      "    if bottom:\n",
      "        ax.xaxis.tick_bottom()\n",
      "    if left:\n",
      "        ax.yaxis.tick_left()\n",
      "    if right:\n",
      "         ax.yaxis.tick_right()"
     ],
     "language": "python",
     "metadata": {},
     "outputs": [],
     "prompt_number": 13
    },
    {
     "cell_type": "code",
     "collapsed": false,
     "input": [
      "base_url = 'http://www.imdb.com/search/title?sort=num_votes,desc&'\n",
      "start_url = []\n",
      "for i in range(1,20002,50):\n",
      "    start_url.append(base_url+'start=%d'%i+'&title_type=feature&year=1950,2012')\n",
      "\n",
      "#r = requests.get(url)\n",
      "\n",
      "#http://www.imdb.com/search/title?sort=num_votes,desc&start=1&title_type=feature&year=1950,2012\n",
      "#http://www.imdb.com/search/title?sort=num_votes,desc&start=51&title_type=feature&year=1950,2012\n",
      "#http://www.imdb.com/search/title?sort=num_votes,desc&start=101&title_type=feature&year=1950,2012"
     ],
     "language": "python",
     "metadata": {},
     "outputs": [],
     "prompt_number": 14
    },
    {
     "cell_type": "code",
     "collapsed": false,
     "input": [
      "title=[]\n",
      "genre=[]\n",
      "runtime=[]\n",
      "rating=[]\n",
      "year =[]\n",
      "vote =[]\n",
      "imdbID =[]"
     ],
     "language": "python",
     "metadata": {},
     "outputs": [],
     "prompt_number": 15
    },
    {
     "cell_type": "code",
     "collapsed": false,
     "input": [
      "num_of_urls = range(1,5001,50)\n",
      "for url,count in zip(start_url,num_of_urls):\n",
      "    print count\n",
      "    r = requests.get(url)\n",
      "    bs = BeautifulSoup(r.text)\n",
      "    for movie in bs.findAll('td','title'):\n",
      "        title.append(movie.find('a').contents[0])\n",
      "        b = movie.find('span','genre').findAll('a')\n",
      "        genre.append([g.contents[0] for g in b])\n",
      "        runtime.append(movie.find('span','runtime').contents[0])\n",
      "        rating.append(movie.find('span','value').contents[0])\n",
      "        yr = list(movie.find('span','year_type').contents[0])\n",
      "        year.append(int(''.join(yr[1:5])))\n",
      "        imdbID.append(movie.find('span','rating-cancel').a['href'].split('/')[2])\n",
      "        v = movie.find('div','rating rating-list')['title'].split(' ')[4]\n",
      "        vote.append(v[1:len(v)])"
     ],
     "language": "python",
     "metadata": {},
     "outputs": [
      {
       "output_type": "stream",
       "stream": "stdout",
       "text": [
        "1\n",
        "51"
       ]
      },
      {
       "output_type": "stream",
       "stream": "stdout",
       "text": [
        "\n",
        "101"
       ]
      },
      {
       "output_type": "stream",
       "stream": "stdout",
       "text": [
        "\n",
        "151"
       ]
      },
      {
       "output_type": "stream",
       "stream": "stdout",
       "text": [
        "\n",
        "201"
       ]
      },
      {
       "output_type": "stream",
       "stream": "stdout",
       "text": [
        "\n",
        "251"
       ]
      },
      {
       "output_type": "stream",
       "stream": "stdout",
       "text": [
        "\n",
        "301"
       ]
      },
      {
       "output_type": "stream",
       "stream": "stdout",
       "text": [
        "\n",
        "351"
       ]
      },
      {
       "output_type": "stream",
       "stream": "stdout",
       "text": [
        "\n",
        "401"
       ]
      },
      {
       "output_type": "stream",
       "stream": "stdout",
       "text": [
        "\n",
        "451"
       ]
      },
      {
       "output_type": "stream",
       "stream": "stdout",
       "text": [
        "\n",
        "501"
       ]
      },
      {
       "output_type": "stream",
       "stream": "stdout",
       "text": [
        "\n",
        "551"
       ]
      },
      {
       "output_type": "stream",
       "stream": "stdout",
       "text": [
        "\n",
        "601"
       ]
      },
      {
       "output_type": "stream",
       "stream": "stdout",
       "text": [
        "\n",
        "651"
       ]
      },
      {
       "output_type": "stream",
       "stream": "stdout",
       "text": [
        "\n",
        "701"
       ]
      },
      {
       "output_type": "stream",
       "stream": "stdout",
       "text": [
        "\n",
        "751"
       ]
      },
      {
       "output_type": "stream",
       "stream": "stdout",
       "text": [
        "\n",
        "801"
       ]
      },
      {
       "output_type": "stream",
       "stream": "stdout",
       "text": [
        "\n",
        "851"
       ]
      },
      {
       "output_type": "stream",
       "stream": "stdout",
       "text": [
        "\n",
        "901"
       ]
      },
      {
       "output_type": "stream",
       "stream": "stdout",
       "text": [
        "\n",
        "951"
       ]
      },
      {
       "output_type": "stream",
       "stream": "stdout",
       "text": [
        "\n",
        "1001"
       ]
      },
      {
       "output_type": "stream",
       "stream": "stdout",
       "text": [
        "\n",
        "1051"
       ]
      },
      {
       "output_type": "stream",
       "stream": "stdout",
       "text": [
        "\n",
        "1101"
       ]
      },
      {
       "output_type": "stream",
       "stream": "stdout",
       "text": [
        "\n",
        "1151"
       ]
      },
      {
       "output_type": "stream",
       "stream": "stdout",
       "text": [
        "\n",
        "1201"
       ]
      },
      {
       "output_type": "stream",
       "stream": "stdout",
       "text": [
        "\n",
        "1251"
       ]
      },
      {
       "output_type": "stream",
       "stream": "stdout",
       "text": [
        "\n",
        "1301"
       ]
      },
      {
       "output_type": "stream",
       "stream": "stdout",
       "text": [
        "\n",
        "1351"
       ]
      },
      {
       "output_type": "stream",
       "stream": "stdout",
       "text": [
        "\n",
        "1401"
       ]
      },
      {
       "output_type": "stream",
       "stream": "stdout",
       "text": [
        "\n",
        "1451"
       ]
      },
      {
       "output_type": "stream",
       "stream": "stdout",
       "text": [
        "\n",
        "1501"
       ]
      },
      {
       "output_type": "stream",
       "stream": "stdout",
       "text": [
        "\n",
        "1551"
       ]
      },
      {
       "output_type": "stream",
       "stream": "stdout",
       "text": [
        "\n",
        "1601"
       ]
      },
      {
       "output_type": "stream",
       "stream": "stdout",
       "text": [
        "\n",
        "1651"
       ]
      },
      {
       "output_type": "stream",
       "stream": "stdout",
       "text": [
        "\n",
        "1701"
       ]
      },
      {
       "output_type": "stream",
       "stream": "stdout",
       "text": [
        "\n",
        "1751"
       ]
      },
      {
       "output_type": "stream",
       "stream": "stdout",
       "text": [
        "\n",
        "1801"
       ]
      },
      {
       "output_type": "stream",
       "stream": "stdout",
       "text": [
        "\n",
        "1851"
       ]
      },
      {
       "output_type": "stream",
       "stream": "stdout",
       "text": [
        "\n",
        "1901"
       ]
      },
      {
       "output_type": "stream",
       "stream": "stdout",
       "text": [
        "\n",
        "1951"
       ]
      },
      {
       "output_type": "stream",
       "stream": "stdout",
       "text": [
        "\n",
        "2001"
       ]
      },
      {
       "output_type": "stream",
       "stream": "stdout",
       "text": [
        "\n",
        "2051"
       ]
      },
      {
       "output_type": "stream",
       "stream": "stdout",
       "text": [
        "\n",
        "2101"
       ]
      },
      {
       "output_type": "stream",
       "stream": "stdout",
       "text": [
        "\n",
        "2151"
       ]
      },
      {
       "output_type": "stream",
       "stream": "stdout",
       "text": [
        "\n",
        "2201"
       ]
      },
      {
       "output_type": "stream",
       "stream": "stdout",
       "text": [
        "\n",
        "2251"
       ]
      },
      {
       "output_type": "stream",
       "stream": "stdout",
       "text": [
        "\n",
        "2301"
       ]
      },
      {
       "output_type": "stream",
       "stream": "stdout",
       "text": [
        "\n",
        "2351"
       ]
      },
      {
       "output_type": "stream",
       "stream": "stdout",
       "text": [
        "\n",
        "2401"
       ]
      },
      {
       "output_type": "stream",
       "stream": "stdout",
       "text": [
        "\n",
        "2451"
       ]
      },
      {
       "output_type": "stream",
       "stream": "stdout",
       "text": [
        "\n",
        "2501"
       ]
      },
      {
       "output_type": "stream",
       "stream": "stdout",
       "text": [
        "\n",
        "2551"
       ]
      },
      {
       "output_type": "stream",
       "stream": "stdout",
       "text": [
        "\n",
        "2601"
       ]
      },
      {
       "output_type": "stream",
       "stream": "stdout",
       "text": [
        "\n",
        "2651"
       ]
      },
      {
       "output_type": "stream",
       "stream": "stdout",
       "text": [
        "\n",
        "2701"
       ]
      },
      {
       "output_type": "stream",
       "stream": "stdout",
       "text": [
        "\n",
        "2751"
       ]
      },
      {
       "output_type": "stream",
       "stream": "stdout",
       "text": [
        "\n",
        "2801"
       ]
      },
      {
       "output_type": "stream",
       "stream": "stdout",
       "text": [
        "\n",
        "2851"
       ]
      },
      {
       "output_type": "stream",
       "stream": "stdout",
       "text": [
        "\n",
        "2901"
       ]
      },
      {
       "output_type": "stream",
       "stream": "stdout",
       "text": [
        "\n",
        "2951"
       ]
      },
      {
       "output_type": "stream",
       "stream": "stdout",
       "text": [
        "\n",
        "3001"
       ]
      },
      {
       "output_type": "stream",
       "stream": "stdout",
       "text": [
        "\n",
        "3051"
       ]
      },
      {
       "output_type": "stream",
       "stream": "stdout",
       "text": [
        "\n",
        "3101"
       ]
      },
      {
       "output_type": "stream",
       "stream": "stdout",
       "text": [
        "\n",
        "3151"
       ]
      },
      {
       "output_type": "stream",
       "stream": "stdout",
       "text": [
        "\n",
        "3201"
       ]
      },
      {
       "output_type": "stream",
       "stream": "stdout",
       "text": [
        "\n",
        "3251"
       ]
      },
      {
       "output_type": "stream",
       "stream": "stdout",
       "text": [
        "\n",
        "3301"
       ]
      },
      {
       "output_type": "stream",
       "stream": "stdout",
       "text": [
        "\n",
        "3351"
       ]
      },
      {
       "output_type": "stream",
       "stream": "stdout",
       "text": [
        "\n",
        "3401"
       ]
      },
      {
       "output_type": "stream",
       "stream": "stdout",
       "text": [
        "\n",
        "3451"
       ]
      },
      {
       "output_type": "stream",
       "stream": "stdout",
       "text": [
        "\n",
        "3501"
       ]
      },
      {
       "output_type": "stream",
       "stream": "stdout",
       "text": [
        "\n",
        "3551"
       ]
      },
      {
       "output_type": "stream",
       "stream": "stdout",
       "text": [
        "\n",
        "3601"
       ]
      },
      {
       "output_type": "stream",
       "stream": "stdout",
       "text": [
        "\n",
        "3651"
       ]
      },
      {
       "output_type": "stream",
       "stream": "stdout",
       "text": [
        "\n",
        "3701"
       ]
      },
      {
       "output_type": "stream",
       "stream": "stdout",
       "text": [
        "\n",
        "3751"
       ]
      },
      {
       "output_type": "stream",
       "stream": "stdout",
       "text": [
        "\n",
        "3801"
       ]
      },
      {
       "output_type": "stream",
       "stream": "stdout",
       "text": [
        "\n",
        "3851"
       ]
      },
      {
       "output_type": "stream",
       "stream": "stdout",
       "text": [
        "\n",
        "3901"
       ]
      },
      {
       "output_type": "stream",
       "stream": "stdout",
       "text": [
        "\n",
        "3951"
       ]
      },
      {
       "output_type": "stream",
       "stream": "stdout",
       "text": [
        "\n",
        "4001"
       ]
      },
      {
       "output_type": "stream",
       "stream": "stdout",
       "text": [
        "\n",
        "4051"
       ]
      },
      {
       "output_type": "stream",
       "stream": "stdout",
       "text": [
        "\n",
        "4101"
       ]
      },
      {
       "output_type": "stream",
       "stream": "stdout",
       "text": [
        "\n",
        "4151"
       ]
      },
      {
       "output_type": "stream",
       "stream": "stdout",
       "text": [
        "\n",
        "4201"
       ]
      },
      {
       "output_type": "stream",
       "stream": "stdout",
       "text": [
        "\n",
        "4251"
       ]
      },
      {
       "output_type": "stream",
       "stream": "stdout",
       "text": [
        "\n",
        "4301"
       ]
      },
      {
       "output_type": "stream",
       "stream": "stdout",
       "text": [
        "\n",
        "4351"
       ]
      },
      {
       "output_type": "stream",
       "stream": "stdout",
       "text": [
        "\n",
        "4401"
       ]
      },
      {
       "output_type": "stream",
       "stream": "stdout",
       "text": [
        "\n",
        "4451"
       ]
      },
      {
       "output_type": "stream",
       "stream": "stdout",
       "text": [
        "\n",
        "4501"
       ]
      },
      {
       "output_type": "stream",
       "stream": "stdout",
       "text": [
        "\n",
        "4551"
       ]
      },
      {
       "output_type": "stream",
       "stream": "stdout",
       "text": [
        "\n",
        "4601"
       ]
      },
      {
       "output_type": "stream",
       "stream": "stdout",
       "text": [
        "\n",
        "4651"
       ]
      },
      {
       "output_type": "stream",
       "stream": "stdout",
       "text": [
        "\n",
        "4701"
       ]
      },
      {
       "output_type": "stream",
       "stream": "stdout",
       "text": [
        "\n",
        "4751"
       ]
      },
      {
       "output_type": "stream",
       "stream": "stdout",
       "text": [
        "\n",
        "4801"
       ]
      },
      {
       "output_type": "stream",
       "stream": "stdout",
       "text": [
        "\n",
        "4851"
       ]
      },
      {
       "output_type": "stream",
       "stream": "stdout",
       "text": [
        "\n",
        "4901"
       ]
      },
      {
       "output_type": "stream",
       "stream": "stdout",
       "text": [
        "\n",
        "4951"
       ]
      },
      {
       "output_type": "stream",
       "stream": "stdout",
       "text": [
        "\n"
       ]
      }
     ],
     "prompt_number": 16
    },
    {
     "cell_type": "code",
     "collapsed": false,
     "input": [
      "data = {'imdbID': imdbID, 'title':title,'rating':rating, 'vote': vote, 'runtime':runtime, 'year':year,'genre': genre }"
     ],
     "language": "python",
     "metadata": {},
     "outputs": [],
     "prompt_number": 28
    },
    {
     "cell_type": "code",
     "collapsed": false,
     "input": [
      "movieDF = pd.DataFrame(data, columns=['imdbID','title','rating','vote','runtime','year','genre'])"
     ],
     "language": "python",
     "metadata": {},
     "outputs": [],
     "prompt_number": 29
    },
    {
     "cell_type": "code",
     "collapsed": false,
     "input": [
      "movieDF.head()"
     ],
     "language": "python",
     "metadata": {},
     "outputs": [
      {
       "html": [
        "<div style=\"max-height:1000px;max-width:1500px;overflow:auto;\">\n",
        "<table border=\"1\" class=\"dataframe\">\n",
        "  <thead>\n",
        "    <tr style=\"text-align: right;\">\n",
        "      <th></th>\n",
        "      <th>imdbID</th>\n",
        "      <th>title</th>\n",
        "      <th>rating</th>\n",
        "      <th>vote</th>\n",
        "      <th>runtime</th>\n",
        "      <th>year</th>\n",
        "      <th>genre</th>\n",
        "    </tr>\n",
        "  </thead>\n",
        "  <tbody>\n",
        "    <tr>\n",
        "      <th>0</th>\n",
        "      <td> tt0111161</td>\n",
        "      <td> The Shawshank Redemption</td>\n",
        "      <td> 9.3</td>\n",
        "      <td> 1,439,277</td>\n",
        "      <td> 142 mins.</td>\n",
        "      <td> 1994</td>\n",
        "      <td>                      [Crime, Drama]</td>\n",
        "    </tr>\n",
        "    <tr>\n",
        "      <th>1</th>\n",
        "      <td> tt0468569</td>\n",
        "      <td>          The Dark Knight</td>\n",
        "      <td> 9.0</td>\n",
        "      <td> 1,410,124</td>\n",
        "      <td> 152 mins.</td>\n",
        "      <td> 2008</td>\n",
        "      <td>              [Action, Crime, Drama]</td>\n",
        "    </tr>\n",
        "    <tr>\n",
        "      <th>2</th>\n",
        "      <td> tt1375666</td>\n",
        "      <td>                Inception</td>\n",
        "      <td> 8.8</td>\n",
        "      <td> 1,209,159</td>\n",
        "      <td> 148 mins.</td>\n",
        "      <td> 2010</td>\n",
        "      <td> [Action, Mystery, Sci-Fi, Thriller]</td>\n",
        "    </tr>\n",
        "    <tr>\n",
        "      <th>3</th>\n",
        "      <td> tt0137523</td>\n",
        "      <td>               Fight Club</td>\n",
        "      <td> 8.9</td>\n",
        "      <td> 1,123,462</td>\n",
        "      <td> 139 mins.</td>\n",
        "      <td> 1999</td>\n",
        "      <td>                             [Drama]</td>\n",
        "    </tr>\n",
        "    <tr>\n",
        "      <th>4</th>\n",
        "      <td> tt0110912</td>\n",
        "      <td>             Pulp Fiction</td>\n",
        "      <td> 8.9</td>\n",
        "      <td> 1,117,193</td>\n",
        "      <td> 154 mins.</td>\n",
        "      <td> 1994</td>\n",
        "      <td>                      [Crime, Drama]</td>\n",
        "    </tr>\n",
        "  </tbody>\n",
        "</table>\n",
        "</div>"
       ],
       "metadata": {},
       "output_type": "pyout",
       "prompt_number": 30,
       "text": [
        "      imdbID                     title rating       vote    runtime  year                                genre\n",
        "0  tt0111161  The Shawshank Redemption    9.3  1,439,277  142 mins.  1994                       [Crime, Drama]\n",
        "1  tt0468569           The Dark Knight    9.0  1,410,124  152 mins.  2008               [Action, Crime, Drama]\n",
        "2  tt1375666                 Inception    8.8  1,209,159  148 mins.  2010  [Action, Mystery, Sci-Fi, Thriller]\n",
        "3  tt0137523                Fight Club    8.9  1,123,462  139 mins.  1999                              [Drama]\n",
        "4  tt0110912              Pulp Fiction    8.9  1,117,193  154 mins.  1994                       [Crime, Drama]"
       ]
      }
     ],
     "prompt_number": 30
    },
    {
     "cell_type": "code",
     "collapsed": false,
     "input": [
      "tempRunTime = [0]*movieDF.shape[0]\n",
      "for i in range(movieDF.shape[0]):\n",
      "    a = str(movieDF.runtime[i]).split()\n",
      "    tempRunTime[i] = int(a[0])"
     ],
     "language": "python",
     "metadata": {},
     "outputs": [],
     "prompt_number": 31
    },
    {
     "cell_type": "code",
     "collapsed": false,
     "input": [
      "movieDF['runtime'] = tempRunTime\n",
      "movieDF.head()"
     ],
     "language": "python",
     "metadata": {},
     "outputs": [
      {
       "html": [
        "<div style=\"max-height:1000px;max-width:1500px;overflow:auto;\">\n",
        "<table border=\"1\" class=\"dataframe\">\n",
        "  <thead>\n",
        "    <tr style=\"text-align: right;\">\n",
        "      <th></th>\n",
        "      <th>imdbID</th>\n",
        "      <th>title</th>\n",
        "      <th>rating</th>\n",
        "      <th>vote</th>\n",
        "      <th>runtime</th>\n",
        "      <th>year</th>\n",
        "      <th>genre</th>\n",
        "    </tr>\n",
        "  </thead>\n",
        "  <tbody>\n",
        "    <tr>\n",
        "      <th>0</th>\n",
        "      <td> tt0111161</td>\n",
        "      <td> The Shawshank Redemption</td>\n",
        "      <td> 9.3</td>\n",
        "      <td> 1,439,277</td>\n",
        "      <td> 142</td>\n",
        "      <td> 1994</td>\n",
        "      <td>                      [Crime, Drama]</td>\n",
        "    </tr>\n",
        "    <tr>\n",
        "      <th>1</th>\n",
        "      <td> tt0468569</td>\n",
        "      <td>          The Dark Knight</td>\n",
        "      <td> 9.0</td>\n",
        "      <td> 1,410,124</td>\n",
        "      <td> 152</td>\n",
        "      <td> 2008</td>\n",
        "      <td>              [Action, Crime, Drama]</td>\n",
        "    </tr>\n",
        "    <tr>\n",
        "      <th>2</th>\n",
        "      <td> tt1375666</td>\n",
        "      <td>                Inception</td>\n",
        "      <td> 8.8</td>\n",
        "      <td> 1,209,159</td>\n",
        "      <td> 148</td>\n",
        "      <td> 2010</td>\n",
        "      <td> [Action, Mystery, Sci-Fi, Thriller]</td>\n",
        "    </tr>\n",
        "    <tr>\n",
        "      <th>3</th>\n",
        "      <td> tt0137523</td>\n",
        "      <td>               Fight Club</td>\n",
        "      <td> 8.9</td>\n",
        "      <td> 1,123,462</td>\n",
        "      <td> 139</td>\n",
        "      <td> 1999</td>\n",
        "      <td>                             [Drama]</td>\n",
        "    </tr>\n",
        "    <tr>\n",
        "      <th>4</th>\n",
        "      <td> tt0110912</td>\n",
        "      <td>             Pulp Fiction</td>\n",
        "      <td> 8.9</td>\n",
        "      <td> 1,117,193</td>\n",
        "      <td> 154</td>\n",
        "      <td> 1994</td>\n",
        "      <td>                      [Crime, Drama]</td>\n",
        "    </tr>\n",
        "  </tbody>\n",
        "</table>\n",
        "</div>"
       ],
       "metadata": {},
       "output_type": "pyout",
       "prompt_number": 35,
       "text": [
        "      imdbID                     title rating       vote  runtime  year                                genre\n",
        "0  tt0111161  The Shawshank Redemption    9.3  1,439,277      142  1994                       [Crime, Drama]\n",
        "1  tt0468569           The Dark Knight    9.0  1,410,124      152  2008               [Action, Crime, Drama]\n",
        "2  tt1375666                 Inception    8.8  1,209,159      148  2010  [Action, Mystery, Sci-Fi, Thriller]\n",
        "3  tt0137523                Fight Club    8.9  1,123,462      139  1999                              [Drama]\n",
        "4  tt0110912              Pulp Fiction    8.9  1,117,193      154  1994                       [Crime, Drama]"
       ]
      }
     ],
     "prompt_number": 35
    },
    {
     "cell_type": "code",
     "collapsed": false,
     "input": [
      "movieGenre = set(movieDF.genre.sum())"
     ],
     "language": "python",
     "metadata": {},
     "outputs": [],
     "prompt_number": 36
    },
    {
     "cell_type": "code",
     "collapsed": false,
     "input": [
      "for g in movieGenre:\n",
      "    movieDF[g] = [g in tempGenre for tempGenre in movieDF['genre']]"
     ],
     "language": "python",
     "metadata": {},
     "outputs": [],
     "prompt_number": 37
    },
    {
     "cell_type": "code",
     "collapsed": false,
     "input": [
      "movieDF.head()"
     ],
     "language": "python",
     "metadata": {},
     "outputs": [
      {
       "html": [
        "<div style=\"max-height:1000px;max-width:1500px;overflow:auto;\">\n",
        "<table border=\"1\" class=\"dataframe\">\n",
        "  <thead>\n",
        "    <tr style=\"text-align: right;\">\n",
        "      <th></th>\n",
        "      <th>imdbID</th>\n",
        "      <th>title</th>\n",
        "      <th>rating</th>\n",
        "      <th>vote</th>\n",
        "      <th>runtime</th>\n",
        "      <th>year</th>\n",
        "      <th>genre</th>\n",
        "      <th>Sci-Fi</th>\n",
        "      <th>Crime</th>\n",
        "      <th>Romance</th>\n",
        "      <th>Animation</th>\n",
        "      <th>Music</th>\n",
        "      <th>Comedy</th>\n",
        "      <th>War</th>\n",
        "      <th>Horror</th>\n",
        "      <th>Film-Noir</th>\n",
        "      <th>Adult</th>\n",
        "      <th>Western</th>\n",
        "      <th>Thriller</th>\n",
        "      <th>Adventure</th>\n",
        "      <th>Mystery</th>\n",
        "      <th>Drama</th>\n",
        "      <th>Action</th>\n",
        "      <th>Musical</th>\n",
        "      <th>History</th>\n",
        "      <th>Family</th>\n",
        "      <th>Fantasy</th>\n",
        "      <th>Sport</th>\n",
        "      <th>Biography</th>\n",
        "    </tr>\n",
        "  </thead>\n",
        "  <tbody>\n",
        "    <tr>\n",
        "      <th>0</th>\n",
        "      <td> tt0111161</td>\n",
        "      <td> The Shawshank Redemption</td>\n",
        "      <td> 9.3</td>\n",
        "      <td> 1,439,277</td>\n",
        "      <td> 142</td>\n",
        "      <td> 1994</td>\n",
        "      <td>                      [Crime, Drama]</td>\n",
        "      <td> False</td>\n",
        "      <td>  True</td>\n",
        "      <td> False</td>\n",
        "      <td> False</td>\n",
        "      <td> False</td>\n",
        "      <td> False</td>\n",
        "      <td> False</td>\n",
        "      <td> False</td>\n",
        "      <td> False</td>\n",
        "      <td> False</td>\n",
        "      <td> False</td>\n",
        "      <td> False</td>\n",
        "      <td> False</td>\n",
        "      <td> False</td>\n",
        "      <td>  True</td>\n",
        "      <td> False</td>\n",
        "      <td> False</td>\n",
        "      <td> False</td>\n",
        "      <td> False</td>\n",
        "      <td> False</td>\n",
        "      <td> False</td>\n",
        "      <td> False</td>\n",
        "    </tr>\n",
        "    <tr>\n",
        "      <th>1</th>\n",
        "      <td> tt0468569</td>\n",
        "      <td>          The Dark Knight</td>\n",
        "      <td> 9.0</td>\n",
        "      <td> 1,410,124</td>\n",
        "      <td> 152</td>\n",
        "      <td> 2008</td>\n",
        "      <td>              [Action, Crime, Drama]</td>\n",
        "      <td> False</td>\n",
        "      <td>  True</td>\n",
        "      <td> False</td>\n",
        "      <td> False</td>\n",
        "      <td> False</td>\n",
        "      <td> False</td>\n",
        "      <td> False</td>\n",
        "      <td> False</td>\n",
        "      <td> False</td>\n",
        "      <td> False</td>\n",
        "      <td> False</td>\n",
        "      <td> False</td>\n",
        "      <td> False</td>\n",
        "      <td> False</td>\n",
        "      <td>  True</td>\n",
        "      <td>  True</td>\n",
        "      <td> False</td>\n",
        "      <td> False</td>\n",
        "      <td> False</td>\n",
        "      <td> False</td>\n",
        "      <td> False</td>\n",
        "      <td> False</td>\n",
        "    </tr>\n",
        "    <tr>\n",
        "      <th>2</th>\n",
        "      <td> tt1375666</td>\n",
        "      <td>                Inception</td>\n",
        "      <td> 8.8</td>\n",
        "      <td> 1,209,159</td>\n",
        "      <td> 148</td>\n",
        "      <td> 2010</td>\n",
        "      <td> [Action, Mystery, Sci-Fi, Thriller]</td>\n",
        "      <td>  True</td>\n",
        "      <td> False</td>\n",
        "      <td> False</td>\n",
        "      <td> False</td>\n",
        "      <td> False</td>\n",
        "      <td> False</td>\n",
        "      <td> False</td>\n",
        "      <td> False</td>\n",
        "      <td> False</td>\n",
        "      <td> False</td>\n",
        "      <td> False</td>\n",
        "      <td>  True</td>\n",
        "      <td> False</td>\n",
        "      <td>  True</td>\n",
        "      <td> False</td>\n",
        "      <td>  True</td>\n",
        "      <td> False</td>\n",
        "      <td> False</td>\n",
        "      <td> False</td>\n",
        "      <td> False</td>\n",
        "      <td> False</td>\n",
        "      <td> False</td>\n",
        "    </tr>\n",
        "    <tr>\n",
        "      <th>3</th>\n",
        "      <td> tt0137523</td>\n",
        "      <td>               Fight Club</td>\n",
        "      <td> 8.9</td>\n",
        "      <td> 1,123,462</td>\n",
        "      <td> 139</td>\n",
        "      <td> 1999</td>\n",
        "      <td>                             [Drama]</td>\n",
        "      <td> False</td>\n",
        "      <td> False</td>\n",
        "      <td> False</td>\n",
        "      <td> False</td>\n",
        "      <td> False</td>\n",
        "      <td> False</td>\n",
        "      <td> False</td>\n",
        "      <td> False</td>\n",
        "      <td> False</td>\n",
        "      <td> False</td>\n",
        "      <td> False</td>\n",
        "      <td> False</td>\n",
        "      <td> False</td>\n",
        "      <td> False</td>\n",
        "      <td>  True</td>\n",
        "      <td> False</td>\n",
        "      <td> False</td>\n",
        "      <td> False</td>\n",
        "      <td> False</td>\n",
        "      <td> False</td>\n",
        "      <td> False</td>\n",
        "      <td> False</td>\n",
        "    </tr>\n",
        "    <tr>\n",
        "      <th>4</th>\n",
        "      <td> tt0110912</td>\n",
        "      <td>             Pulp Fiction</td>\n",
        "      <td> 8.9</td>\n",
        "      <td> 1,117,193</td>\n",
        "      <td> 154</td>\n",
        "      <td> 1994</td>\n",
        "      <td>                      [Crime, Drama]</td>\n",
        "      <td> False</td>\n",
        "      <td>  True</td>\n",
        "      <td> False</td>\n",
        "      <td> False</td>\n",
        "      <td> False</td>\n",
        "      <td> False</td>\n",
        "      <td> False</td>\n",
        "      <td> False</td>\n",
        "      <td> False</td>\n",
        "      <td> False</td>\n",
        "      <td> False</td>\n",
        "      <td> False</td>\n",
        "      <td> False</td>\n",
        "      <td> False</td>\n",
        "      <td>  True</td>\n",
        "      <td> False</td>\n",
        "      <td> False</td>\n",
        "      <td> False</td>\n",
        "      <td> False</td>\n",
        "      <td> False</td>\n",
        "      <td> False</td>\n",
        "      <td> False</td>\n",
        "    </tr>\n",
        "  </tbody>\n",
        "</table>\n",
        "</div>"
       ],
       "metadata": {},
       "output_type": "pyout",
       "prompt_number": 38,
       "text": [
        "      imdbID                     title rating       vote  runtime  year                                genre Sci-Fi  Crime Romance Animation  Music Comedy    War Horror Film-Noir  Adult Western Thriller Adventure Mystery  Drama Action Musical History Family Fantasy  Sport Biography\n",
        "0  tt0111161  The Shawshank Redemption    9.3  1,439,277      142  1994                       [Crime, Drama]  False   True   False     False  False  False  False  False     False  False   False    False     False   False   True  False   False   False  False   False  False     False\n",
        "1  tt0468569           The Dark Knight    9.0  1,410,124      152  2008               [Action, Crime, Drama]  False   True   False     False  False  False  False  False     False  False   False    False     False   False   True   True   False   False  False   False  False     False\n",
        "2  tt1375666                 Inception    8.8  1,209,159      148  2010  [Action, Mystery, Sci-Fi, Thriller]   True  False   False     False  False  False  False  False     False  False   False     True     False    True  False   True   False   False  False   False  False     False\n",
        "3  tt0137523                Fight Club    8.9  1,123,462      139  1999                              [Drama]  False  False   False     False  False  False  False  False     False  False   False    False     False   False   True  False   False   False  False   False  False     False\n",
        "4  tt0110912              Pulp Fiction    8.9  1,117,193      154  1994                       [Crime, Drama]  False   True   False     False  False  False  False  False     False  False   False    False     False   False   True  False   False   False  False   False  False     False"
       ]
      }
     ],
     "prompt_number": 38
    },
    {
     "cell_type": "code",
     "collapsed": false,
     "input": [
      "movieDF.rating = [float(movieDF.rating[i]) for i in range(len(movieDF.rating))]"
     ],
     "language": "python",
     "metadata": {},
     "outputs": [],
     "prompt_number": 39
    },
    {
     "cell_type": "code",
     "collapsed": false,
     "input": [
      "movieDF.vote = [int(''.join(str(movieDF.vote[i]).split(','))) for i in range(len(movieDF.vote))]"
     ],
     "language": "python",
     "metadata": {},
     "outputs": [],
     "prompt_number": 40
    },
    {
     "cell_type": "code",
     "collapsed": false,
     "input": [
      "movieDF[['rating','runtime','year','vote']].describe()"
     ],
     "language": "python",
     "metadata": {},
     "outputs": [
      {
       "html": [
        "<div style=\"max-height:1000px;max-width:1500px;overflow:auto;\">\n",
        "<table border=\"1\" class=\"dataframe\">\n",
        "  <thead>\n",
        "    <tr style=\"text-align: right;\">\n",
        "      <th></th>\n",
        "      <th>rating</th>\n",
        "      <th>runtime</th>\n",
        "      <th>year</th>\n",
        "      <th>vote</th>\n",
        "    </tr>\n",
        "  </thead>\n",
        "  <tbody>\n",
        "    <tr>\n",
        "      <th>count</th>\n",
        "      <td> 5000.000000</td>\n",
        "      <td> 5000.000000</td>\n",
        "      <td> 5000.000000</td>\n",
        "      <td>    5000.000000</td>\n",
        "    </tr>\n",
        "    <tr>\n",
        "      <th>mean</th>\n",
        "      <td>    6.671920</td>\n",
        "      <td>  109.329000</td>\n",
        "      <td> 1997.440400</td>\n",
        "      <td>   74131.064200</td>\n",
        "    </tr>\n",
        "    <tr>\n",
        "      <th>std</th>\n",
        "      <td>    1.034399</td>\n",
        "      <td>   21.176677</td>\n",
        "      <td>   13.313057</td>\n",
        "      <td>  110557.262609</td>\n",
        "    </tr>\n",
        "    <tr>\n",
        "      <th>min</th>\n",
        "      <td>    1.800000</td>\n",
        "      <td>   63.000000</td>\n",
        "      <td> 1950.000000</td>\n",
        "      <td>   10636.000000</td>\n",
        "    </tr>\n",
        "    <tr>\n",
        "      <th>25%</th>\n",
        "      <td>    6.100000</td>\n",
        "      <td>   95.000000</td>\n",
        "      <td> 1992.000000</td>\n",
        "      <td>   18094.250000</td>\n",
        "    </tr>\n",
        "    <tr>\n",
        "      <th>50%</th>\n",
        "      <td>    6.800000</td>\n",
        "      <td>  105.000000</td>\n",
        "      <td> 2001.000000</td>\n",
        "      <td>   34883.000000</td>\n",
        "    </tr>\n",
        "    <tr>\n",
        "      <th>75%</th>\n",
        "      <td>    7.400000</td>\n",
        "      <td>  119.000000</td>\n",
        "      <td> 2007.000000</td>\n",
        "      <td>   79813.750000</td>\n",
        "    </tr>\n",
        "    <tr>\n",
        "      <th>max</th>\n",
        "      <td>    9.300000</td>\n",
        "      <td>  383.000000</td>\n",
        "      <td> 2012.000000</td>\n",
        "      <td> 1439277.000000</td>\n",
        "    </tr>\n",
        "  </tbody>\n",
        "</table>\n",
        "</div>"
       ],
       "metadata": {},
       "output_type": "pyout",
       "prompt_number": 41,
       "text": [
        "            rating      runtime         year            vote\n",
        "count  5000.000000  5000.000000  5000.000000     5000.000000\n",
        "mean      6.671920   109.329000  1997.440400    74131.064200\n",
        "std       1.034399    21.176677    13.313057   110557.262609\n",
        "min       1.800000    63.000000  1950.000000    10636.000000\n",
        "25%       6.100000    95.000000  1992.000000    18094.250000\n",
        "50%       6.800000   105.000000  2001.000000    34883.000000\n",
        "75%       7.400000   119.000000  2007.000000    79813.750000\n",
        "max       9.300000   383.000000  2012.000000  1439277.000000"
       ]
      }
     ],
     "prompt_number": 41
    },
    {
     "cell_type": "code",
     "collapsed": false,
     "input": [
      "movieDF[movieDF.vote == movieDF.vote.max()]\n",
      "movieDF[movieDF.vote == movieDF.vote.min()]"
     ],
     "language": "python",
     "metadata": {},
     "outputs": [
      {
       "html": [
        "<div style=\"max-height:1000px;max-width:1500px;overflow:auto;\">\n",
        "<table border=\"1\" class=\"dataframe\">\n",
        "  <thead>\n",
        "    <tr style=\"text-align: right;\">\n",
        "      <th></th>\n",
        "      <th>imdbID</th>\n",
        "      <th>title</th>\n",
        "      <th>rating</th>\n",
        "      <th>vote</th>\n",
        "      <th>runtime</th>\n",
        "      <th>year</th>\n",
        "      <th>genre</th>\n",
        "      <th>Sci-Fi</th>\n",
        "      <th>Crime</th>\n",
        "      <th>Romance</th>\n",
        "      <th>Animation</th>\n",
        "      <th>Music</th>\n",
        "      <th>Comedy</th>\n",
        "      <th>War</th>\n",
        "      <th>Horror</th>\n",
        "      <th>Film-Noir</th>\n",
        "      <th>Adult</th>\n",
        "      <th>Western</th>\n",
        "      <th>Thriller</th>\n",
        "      <th>Adventure</th>\n",
        "      <th>Mystery</th>\n",
        "      <th>Drama</th>\n",
        "      <th>Action</th>\n",
        "      <th>Musical</th>\n",
        "      <th>History</th>\n",
        "      <th>Family</th>\n",
        "      <th>Fantasy</th>\n",
        "      <th>Sport</th>\n",
        "      <th>Biography</th>\n",
        "    </tr>\n",
        "  </thead>\n",
        "  <tbody>\n",
        "    <tr>\n",
        "      <th>4999</th>\n",
        "      <td> tt0365847</td>\n",
        "      <td> The Myth</td>\n",
        "      <td> 6.1</td>\n",
        "      <td> 10636</td>\n",
        "      <td> 122</td>\n",
        "      <td> 2005</td>\n",
        "      <td> [Action, Adventure, Comedy, Drama, Fantasy]</td>\n",
        "      <td> False</td>\n",
        "      <td> False</td>\n",
        "      <td> False</td>\n",
        "      <td> False</td>\n",
        "      <td> False</td>\n",
        "      <td> True</td>\n",
        "      <td> False</td>\n",
        "      <td> False</td>\n",
        "      <td> False</td>\n",
        "      <td> False</td>\n",
        "      <td> False</td>\n",
        "      <td> False</td>\n",
        "      <td> True</td>\n",
        "      <td> False</td>\n",
        "      <td> True</td>\n",
        "      <td> True</td>\n",
        "      <td> False</td>\n",
        "      <td> False</td>\n",
        "      <td> False</td>\n",
        "      <td> True</td>\n",
        "      <td> False</td>\n",
        "      <td> False</td>\n",
        "    </tr>\n",
        "  </tbody>\n",
        "</table>\n",
        "</div>"
       ],
       "metadata": {},
       "output_type": "pyout",
       "prompt_number": 42,
       "text": [
        "         imdbID     title  rating   vote  runtime  year                                        genre Sci-Fi  Crime Romance Animation  Music Comedy    War Horror Film-Noir  Adult Western Thriller Adventure Mystery Drama Action Musical History Family Fantasy  Sport Biography\n",
        "4999  tt0365847  The Myth     6.1  10636      122  2005  [Action, Adventure, Comedy, Drama, Fantasy]  False  False   False     False  False   True  False  False     False  False   False    False      True   False  True   True   False   False  False    True  False     False"
       ]
      }
     ],
     "prompt_number": 42
    },
    {
     "cell_type": "code",
     "collapsed": false,
     "input": [
      "plt.scatter(movieDF.year, movieDF.rating, alpha =0.3, color='grey',lw=0)\n",
      "plt.ylabel('Rating')\n",
      "plt.xlabel('Year')\n",
      "remove_border()"
     ],
     "language": "python",
     "metadata": {},
     "outputs": [
      {
       "metadata": {},
       "output_type": "display_data",
       "png": "[encoded data removed]",
       "text": [
        "<matplotlib.figure.Figure at 0x11b5113d0>"
       ]
      }
     ],
     "prompt_number": 43
    },
    {
     "cell_type": "code",
     "collapsed": false,
     "input": [
      "plt.scatter(movieDF.year, movieDF.runtime, alpha=0.2, color='blue', lw=0)\n",
      "plt.xlabel('Year')\n",
      "plt.ylabel('Runtime')\n",
      "remove_border()"
     ],
     "language": "python",
     "metadata": {},
     "outputs": [
      {
       "metadata": {},
       "output_type": "display_data",
       "png": "[encoded data removed]",
       "text": [
        "<matplotlib.figure.Figure at 0x13e618310>"
       ]
      }
     ],
     "prompt_number": 44
    },
    {
     "cell_type": "code",
     "collapsed": false,
     "input": [
      "c = movieDF.runtime/(float(movieDF.runtime.max()))\n",
      "movieDF.plot(kind='scatter', x='year', y = 'rating', c= c, alpha =0.2, color = 'red')\n",
      "#movieDF.plot(kind='scatter', x = 'year', y = 'runtime', color = 'grey',alpha =0.2, ax=ax)\n",
      "remove_border()"
     ],
     "language": "python",
     "metadata": {},
     "outputs": [
      {
       "metadata": {},
       "output_type": "display_data",
       "png": "[encoded data removed]",
       "text": [
        "<matplotlib.figure.Figure at 0x10b532a10>"
       ]
      }
     ],
     "prompt_number": 45
    },
    {
     "cell_type": "code",
     "collapsed": false,
     "input": [
      "y = movieDF.rating/(movieDF.rating.max())"
     ],
     "language": "python",
     "metadata": {},
     "outputs": [],
     "prompt_number": 46
    },
    {
     "cell_type": "code",
     "collapsed": false,
     "input": [
      "y.describe()"
     ],
     "language": "python",
     "metadata": {},
     "outputs": [
      {
       "metadata": {},
       "output_type": "pyout",
       "prompt_number": 47,
       "text": [
        "count    5000.000000\n",
        "mean        0.717411\n",
        "std         0.111226\n",
        "min         0.193548\n",
        "25%         0.655914\n",
        "50%         0.731183\n",
        "75%         0.795699\n",
        "max         1.000000\n",
        "dtype: float64"
       ]
      }
     ],
     "prompt_number": 47
    },
    {
     "cell_type": "code",
     "collapsed": false,
     "input": [
      "z = movieDF.runtime/movieDF.runtime.max()"
     ],
     "language": "python",
     "metadata": {},
     "outputs": [],
     "prompt_number": 48
    },
    {
     "cell_type": "code",
     "collapsed": false,
     "input": [
      "z.describe()"
     ],
     "language": "python",
     "metadata": {},
     "outputs": [
      {
       "metadata": {},
       "output_type": "pyout",
       "prompt_number": 49,
       "text": [
        "count    5000.000000\n",
        "mean        0.285454\n",
        "std         0.055292\n",
        "min         0.164491\n",
        "25%         0.248042\n",
        "50%         0.274151\n",
        "75%         0.310705\n",
        "max         1.000000\n",
        "dtype: float64"
       ]
      }
     ],
     "prompt_number": 49
    },
    {
     "cell_type": "code",
     "collapsed": false,
     "input": [
      "plt.scatter(movieDF.year,y, color = 'red', alpha =0.1)\n",
      "plt.scatter(movieDF.year,z, color = 'blue', alpha = 0.3)\n",
      "remove_border()"
     ],
     "language": "python",
     "metadata": {},
     "outputs": [
      {
       "metadata": {},
       "output_type": "display_data",
       "png": "[encoded data removed]",
       "text": [
        "<matplotlib.figure.Figure at 0x173e8ded0>"
       ]
      }
     ],
     "prompt_number": 221
    },
    {
     "cell_type": "code",
     "collapsed": false,
     "input": [
      "moreVoteMean_df = movieDF[movieDF.vote >= 74131][['imdbID','year','runtime','rating']]\n",
      "lessVoteMean_df = movieDF[movieDF.vote < 74131][['imdbID','year','runtime','rating']]"
     ],
     "language": "python",
     "metadata": {},
     "outputs": [],
     "prompt_number": 53
    },
    {
     "cell_type": "code",
     "collapsed": false,
     "input": [
      "moreVoteMean_df.shape"
     ],
     "language": "python",
     "metadata": {},
     "outputs": [
      {
       "metadata": {},
       "output_type": "pyout",
       "prompt_number": 54,
       "text": [
        "(1342, 4)"
       ]
      }
     ],
     "prompt_number": 54
    },
    {
     "cell_type": "code",
     "collapsed": false,
     "input": [
      "ax = moreVoteMean_df.plot(kind='scatter',x='year',y='runtime',color='grey',alpha=0.3)\n",
      "lessVoteMean_df.plot(kind='scatter',x='year',y='runtime',color='blue', alpha=0.2, ax=ax)\n",
      "remove_border()"
     ],
     "language": "python",
     "metadata": {},
     "outputs": [
      {
       "metadata": {},
       "output_type": "display_data",
       "png": "[encoded data removed]",
       "text": [
        "<matplotlib.figure.Figure at 0x13e3ba690>"
       ]
      }
     ],
     "prompt_number": 55
    },
    {
     "cell_type": "code",
     "collapsed": false,
     "input": [
      "genre_count = pd.Series(movieDF['genre'].sum()).value_counts()\n",
      "genre_count = pd.DataFrame(genre_count,columns=['count'])\n",
      "\n",
      "genre_count "
     ],
     "language": "python",
     "metadata": {},
     "outputs": [
      {
       "html": [
        "<div style=\"max-height:1000px;max-width:1500px;overflow:auto;\">\n",
        "<table border=\"1\" class=\"dataframe\">\n",
        "  <thead>\n",
        "    <tr style=\"text-align: right;\">\n",
        "      <th></th>\n",
        "      <th>count</th>\n",
        "    </tr>\n",
        "  </thead>\n",
        "  <tbody>\n",
        "    <tr>\n",
        "      <th>Drama</th>\n",
        "      <td> 2612</td>\n",
        "    </tr>\n",
        "    <tr>\n",
        "      <th>Comedy</th>\n",
        "      <td> 1919</td>\n",
        "    </tr>\n",
        "    <tr>\n",
        "      <th>Thriller</th>\n",
        "      <td> 1589</td>\n",
        "    </tr>\n",
        "    <tr>\n",
        "      <th>Action</th>\n",
        "      <td> 1155</td>\n",
        "    </tr>\n",
        "    <tr>\n",
        "      <th>Romance</th>\n",
        "      <td> 1098</td>\n",
        "    </tr>\n",
        "    <tr>\n",
        "      <th>Crime</th>\n",
        "      <td> 1012</td>\n",
        "    </tr>\n",
        "    <tr>\n",
        "      <th>Adventure</th>\n",
        "      <td>  824</td>\n",
        "    </tr>\n",
        "    <tr>\n",
        "      <th>Mystery</th>\n",
        "      <td>  596</td>\n",
        "    </tr>\n",
        "    <tr>\n",
        "      <th>Sci-Fi</th>\n",
        "      <td>  590</td>\n",
        "    </tr>\n",
        "    <tr>\n",
        "      <th>Horror</th>\n",
        "      <td>  582</td>\n",
        "    </tr>\n",
        "    <tr>\n",
        "      <th>Fantasy</th>\n",
        "      <td>  533</td>\n",
        "    </tr>\n",
        "    <tr>\n",
        "      <th>Family</th>\n",
        "      <td>  471</td>\n",
        "    </tr>\n",
        "    <tr>\n",
        "      <th>Biography</th>\n",
        "      <td>  247</td>\n",
        "    </tr>\n",
        "    <tr>\n",
        "      <th>Animation</th>\n",
        "      <td>  234</td>\n",
        "    </tr>\n",
        "    <tr>\n",
        "      <th>War</th>\n",
        "      <td>  204</td>\n",
        "    </tr>\n",
        "    <tr>\n",
        "      <th>Sport</th>\n",
        "      <td>  178</td>\n",
        "    </tr>\n",
        "    <tr>\n",
        "      <th>History</th>\n",
        "      <td>  176</td>\n",
        "    </tr>\n",
        "    <tr>\n",
        "      <th>Music</th>\n",
        "      <td>  166</td>\n",
        "    </tr>\n",
        "    <tr>\n",
        "      <th>Musical</th>\n",
        "      <td>  132</td>\n",
        "    </tr>\n",
        "    <tr>\n",
        "      <th>Western</th>\n",
        "      <td>   94</td>\n",
        "    </tr>\n",
        "    <tr>\n",
        "      <th>Film-Noir</th>\n",
        "      <td>   14</td>\n",
        "    </tr>\n",
        "    <tr>\n",
        "      <th>Adult</th>\n",
        "      <td>    1</td>\n",
        "    </tr>\n",
        "  </tbody>\n",
        "</table>\n",
        "</div>"
       ],
       "metadata": {},
       "output_type": "pyout",
       "prompt_number": 56,
       "text": [
        "           count\n",
        "Drama       2612\n",
        "Comedy      1919\n",
        "Thriller    1589\n",
        "Action      1155\n",
        "Romance     1098\n",
        "Crime       1012\n",
        "Adventure    824\n",
        "Mystery      596\n",
        "Sci-Fi       590\n",
        "Horror       582\n",
        "Fantasy      533\n",
        "Family       471\n",
        "Biography    247\n",
        "Animation    234\n",
        "War          204\n",
        "Sport        178\n",
        "History      176\n",
        "Music        166\n",
        "Musical      132\n",
        "Western       94\n",
        "Film-Noir     14\n",
        "Adult          1"
       ]
      }
     ],
     "prompt_number": 56
    },
    {
     "cell_type": "code",
     "collapsed": false,
     "input": [
      "movieDF[movieDF['runtime']>200].rating.mean()"
     ],
     "language": "python",
     "metadata": {},
     "outputs": [
      {
       "metadata": {},
       "output_type": "pyout",
       "prompt_number": 57,
       "text": [
        "7.9476190476190478"
       ]
      }
     ],
     "prompt_number": 57
    },
    {
     "cell_type": "code",
     "collapsed": false,
     "input": [
      "movieDF.rating.mean()"
     ],
     "language": "python",
     "metadata": {},
     "outputs": [
      {
       "metadata": {},
       "output_type": "pyout",
       "prompt_number": 58,
       "text": [
        "6.6719199999999921"
       ]
      }
     ],
     "prompt_number": 58
    },
    {
     "cell_type": "markdown",
     "metadata": {},
     "source": [
      "So the longer the runtime, the greater the rating ? It seems that the average ratings of the movies with runtime >200 mins has higher average rating (7.95). So longer movies fare better. Could be the fact that longer movies are more elaborately made than the shorter movies and also longer movies are taken up by those who wants to do a meticulous job of producing and directing the movies, resulting in a better viewing experience and hence the higher rating."
     ]
    },
    {
     "cell_type": "code",
     "collapsed": false,
     "input": [
      "lessVoteMean_df[lessVoteMean_df['runtime'] > 250].rating.mean()"
     ],
     "language": "python",
     "metadata": {},
     "outputs": [
      {
       "metadata": {},
       "output_type": "pyout",
       "prompt_number": 59,
       "text": [
        "8.0749999999999993"
       ]
      }
     ],
     "prompt_number": 59
    },
    {
     "cell_type": "code",
     "collapsed": false,
     "input": [
      "lessVoteMean_df.rating.mean()"
     ],
     "language": "python",
     "metadata": {},
     "outputs": [
      {
       "metadata": {},
       "output_type": "pyout",
       "prompt_number": 60,
       "text": [
        "6.5056861673045461"
       ]
      }
     ],
     "prompt_number": 60
    },
    {
     "cell_type": "code",
     "collapsed": false,
     "input": [
      "moreVoteMean_df[moreVoteMean_df['runtime']> 250]"
     ],
     "language": "python",
     "metadata": {},
     "outputs": [
      {
       "html": [
        "<div style=\"max-height:1000px;max-width:1500px;overflow:auto;\">\n",
        "<table border=\"1\" class=\"dataframe\">\n",
        "  <thead>\n",
        "    <tr style=\"text-align: right;\">\n",
        "      <th></th>\n",
        "      <th>imdbID</th>\n",
        "      <th>year</th>\n",
        "      <th>runtime</th>\n",
        "      <th>rating</th>\n",
        "    </tr>\n",
        "  </thead>\n",
        "  <tbody>\n",
        "  </tbody>\n",
        "</table>\n",
        "</div>"
       ],
       "metadata": {},
       "output_type": "pyout",
       "prompt_number": 61,
       "text": [
        "Empty DataFrame\n",
        "Columns: [imdbID, year, runtime, rating]\n",
        "Index: []"
       ]
      }
     ],
     "prompt_number": 61
    },
    {
     "cell_type": "code",
     "collapsed": false,
     "input": [
      "moreVoteMean_df[moreVoteMean_df.runtime == moreVoteMean_df.runtime.max()]"
     ],
     "language": "python",
     "metadata": {},
     "outputs": [
      {
       "html": [
        "<div style=\"max-height:1000px;max-width:1500px;overflow:auto;\">\n",
        "<table border=\"1\" class=\"dataframe\">\n",
        "  <thead>\n",
        "    <tr style=\"text-align: right;\">\n",
        "      <th></th>\n",
        "      <th>imdbID</th>\n",
        "      <th>year</th>\n",
        "      <th>runtime</th>\n",
        "      <th>rating</th>\n",
        "    </tr>\n",
        "  </thead>\n",
        "  <tbody>\n",
        "    <tr>\n",
        "      <th>446</th>\n",
        "      <td> tt0087843</td>\n",
        "      <td> 1984</td>\n",
        "      <td> 229</td>\n",
        "      <td> 8.4</td>\n",
        "    </tr>\n",
        "  </tbody>\n",
        "</table>\n",
        "</div>"
       ],
       "metadata": {},
       "output_type": "pyout",
       "prompt_number": 62,
       "text": [
        "        imdbID  year  runtime  rating\n",
        "446  tt0087843  1984      229     8.4"
       ]
      }
     ],
     "prompt_number": 62
    },
    {
     "cell_type": "markdown",
     "metadata": {},
     "source": [
      "Above analysis shows that movies that received less than the average number of votes contains all the movies whose runtime is > 250, showing that there is a small group of people who are really committed to watching these movies than average. So not everybody watched them."
     ]
    },
    {
     "cell_type": "code",
     "collapsed": false,
     "input": [
      "movieDF[movieDF['runtime']>200].vote.mean()"
     ],
     "language": "python",
     "metadata": {},
     "outputs": [
      {
       "metadata": {},
       "output_type": "pyout",
       "prompt_number": 63,
       "text": [
        "103349.23809523809"
       ]
      }
     ],
     "prompt_number": 63
    },
    {
     "cell_type": "code",
     "collapsed": false,
     "input": [
      "movieDF[movieDF['runtime']>250].vote.mean()"
     ],
     "language": "python",
     "metadata": {},
     "outputs": [
      {
       "metadata": {},
       "output_type": "pyout",
       "prompt_number": 64,
       "text": [
        "21080.25"
       ]
      }
     ],
     "prompt_number": 64
    },
    {
     "cell_type": "code",
     "collapsed": false,
     "input": [
      "decade = (movieDF.year//10)*10"
     ],
     "language": "python",
     "metadata": {},
     "outputs": [],
     "prompt_number": 65
    },
    {
     "cell_type": "code",
     "collapsed": false,
     "input": [
      "decade.head()"
     ],
     "language": "python",
     "metadata": {},
     "outputs": [
      {
       "metadata": {},
       "output_type": "pyout",
       "prompt_number": 66,
       "text": [
        "0    1990\n",
        "1    2000\n",
        "2    2010\n",
        "3    1990\n",
        "4    1990\n",
        "Name: year, dtype: int64"
       ]
      }
     ],
     "prompt_number": 66
    },
    {
     "cell_type": "code",
     "collapsed": false,
     "input": [
      "movieDF['decade'] = decade"
     ],
     "language": "python",
     "metadata": {},
     "outputs": [],
     "prompt_number": 67
    },
    {
     "cell_type": "code",
     "collapsed": false,
     "input": [
      "movieDF.shape"
     ],
     "language": "python",
     "metadata": {},
     "outputs": [
      {
       "metadata": {},
       "output_type": "pyout",
       "prompt_number": 68,
       "text": [
        "(5000, 30)"
       ]
      }
     ],
     "prompt_number": 68
    },
    {
     "cell_type": "code",
     "collapsed": false,
     "input": [
      "movieDF.groupby(decade).rating.mean()"
     ],
     "language": "python",
     "metadata": {},
     "outputs": [
      {
       "metadata": {},
       "output_type": "pyout",
       "prompt_number": 69,
       "text": [
        "year\n",
        "1950    7.802655\n",
        "1960    7.643293\n",
        "1970    7.341699\n",
        "1980    6.850365\n",
        "1990    6.616545\n",
        "2000    6.491860\n",
        "2010    6.505548\n",
        "Name: rating, dtype: float64"
       ]
      }
     ],
     "prompt_number": 69
    },
    {
     "cell_type": "code",
     "collapsed": false,
     "input": [
      "movieDF.groupby(year).rating.mean()"
     ],
     "language": "python",
     "metadata": {},
     "outputs": [
      {
       "metadata": {},
       "output_type": "pyout",
       "prompt_number": 70,
       "text": [
        "1950    8.066667\n",
        "1951    7.800000\n",
        "1952    8.183333\n",
        "1953    7.728571\n",
        "1954    7.815385\n",
        "1955    7.700000\n",
        "1956    7.627273\n",
        "1957    8.141667\n",
        "1958    7.660000\n",
        "1959    7.554545\n",
        "1960    7.793333\n",
        "1961    7.833333\n",
        "1962    7.909091\n",
        "1963    7.655000\n",
        "1964    7.778571\n",
        "...\n",
        "1998    6.642143\n",
        "1999    6.581429\n",
        "2000    6.494737\n",
        "2001    6.527222\n",
        "2002    6.442268\n",
        "2003    6.444809\n",
        "2004    6.579412\n",
        "2005    6.488571\n",
        "2006    6.461134\n",
        "2007    6.532258\n",
        "2008    6.451822\n",
        "2009    6.498790\n",
        "2010    6.524889\n",
        "2011    6.451984\n",
        "2012    6.546018\n",
        "Name: rating, Length: 63, dtype: float64"
       ]
      }
     ],
     "prompt_number": 70
    },
    {
     "cell_type": "code",
     "collapsed": false,
     "input": [
      "movieDF[movieDF.year < 1975].rating.mean()"
     ],
     "language": "python",
     "metadata": {},
     "outputs": [
      {
       "metadata": {},
       "output_type": "pyout",
       "prompt_number": 71,
       "text": [
        "7.6247474747474717"
       ]
      }
     ],
     "prompt_number": 71
    },
    {
     "cell_type": "code",
     "collapsed": false,
     "input": [
      "movieDF[movieDF.year > 1985].rating.mean()"
     ],
     "language": "python",
     "metadata": {},
     "outputs": [
      {
       "metadata": {},
       "output_type": "pyout",
       "prompt_number": 72,
       "text": [
        "6.5451190476190426"
       ]
      }
     ],
     "prompt_number": 72
    },
    {
     "cell_type": "code",
     "collapsed": false,
     "input": [
      "((7.6252500000000101 - 6.5423977299598066)/7.6252500000000101)*100"
     ],
     "language": "python",
     "metadata": {},
     "outputs": [
      {
       "metadata": {},
       "output_type": "pyout",
       "prompt_number": 73,
       "text": [
        "14.200875643948748"
       ]
      }
     ],
     "prompt_number": 73
    },
    {
     "cell_type": "code",
     "collapsed": false,
     "input": [
      "movieDF[movieDF.year < 1975].rating.max()"
     ],
     "language": "python",
     "metadata": {},
     "outputs": [
      {
       "metadata": {},
       "output_type": "pyout",
       "prompt_number": 74,
       "text": [
        "9.1999999999999993"
       ]
      }
     ],
     "prompt_number": 74
    },
    {
     "cell_type": "code",
     "collapsed": false,
     "input": [
      "movieDF[movieDF.year > 1985].rating.max()"
     ],
     "language": "python",
     "metadata": {},
     "outputs": [
      {
       "metadata": {},
       "output_type": "pyout",
       "prompt_number": 75,
       "text": [
        "9.3000000000000007"
       ]
      }
     ],
     "prompt_number": 75
    },
    {
     "cell_type": "code",
     "collapsed": false,
     "input": [
      "movieDF[movieDF.year < 1975].vote.mean()"
     ],
     "language": "python",
     "metadata": {},
     "outputs": [
      {
       "metadata": {},
       "output_type": "pyout",
       "prompt_number": 76,
       "text": [
        "48550.530303030304"
       ]
      }
     ],
     "prompt_number": 76
    },
    {
     "cell_type": "code",
     "collapsed": false,
     "input": [
      "movieDF[movieDF.year > 1985].vote.mean()"
     ],
     "language": "python",
     "metadata": {},
     "outputs": [
      {
       "metadata": {},
       "output_type": "pyout",
       "prompt_number": 77,
       "text": [
        "77931.564523809517"
       ]
      }
     ],
     "prompt_number": 77
    },
    {
     "cell_type": "markdown",
     "metadata": {},
     "source": [
      "The above analysis shows that average ratings has fallen considerably after 1085. Prior to 1975, the average movie rating was 7.63, where as after 1985 the rating is 6.54, almost 14% drop in the ratings. Although, there are individual movies which scored a higher rating after 1985, the general trend of ratings is lower. This could mean that a larger number of people are evaluating movies than previously, and hence this trend. "
     ]
    },
    {
     "cell_type": "code",
     "collapsed": false,
     "input": [
      "groupby_decade_rating = movieDF.groupby(decade).rating"
     ],
     "language": "python",
     "metadata": {},
     "outputs": [],
     "prompt_number": 78
    },
    {
     "cell_type": "code",
     "collapsed": false,
     "input": [
      "groupby_decade_rating_mean = groupby_decade_rating.mean()\n",
      "groupby_decade_rating_std = groupby_decade_rating.std()"
     ],
     "language": "python",
     "metadata": {},
     "outputs": [],
     "prompt_number": 79
    },
    {
     "cell_type": "code",
     "collapsed": false,
     "input": [
      "normalized_rating = movieDF.rating/movieDF.rating.max()\n",
      "normalized_vote = movieDF.vote/movieDF.vote.max()\n",
      "normalized_runtime = movieDF.runtime/movieDF.runtime.max()"
     ],
     "language": "python",
     "metadata": {},
     "outputs": [],
     "prompt_number": 99
    },
    {
     "cell_type": "code",
     "collapsed": false,
     "input": [
      "movieDF['normalized_rating'] = normalized_rating\n",
      "movieDF['normalized_vote'] = normalized_vote\n",
      "movieDF['normalized_runtime'] = normalized_runtime"
     ],
     "language": "python",
     "metadata": {},
     "outputs": [],
     "prompt_number": 100
    },
    {
     "cell_type": "code",
     "collapsed": false,
     "input": [
      "groupby_decade_normalized_rating = movieDF.groupby(decade).normalized_rating\n",
      "groupby_decade_normalized_vote = movieDF.groupby(decade).normalized_vote\n",
      "groupby_decade_normalized_runtime = movieDF.groupby(decade).normalized_runtime\n",
      "#t= groupby_decade_rating_mean.values/groupby_decade_rating_mean.values.max()"
     ],
     "language": "python",
     "metadata": {},
     "outputs": [],
     "prompt_number": 101
    },
    {
     "cell_type": "code",
     "collapsed": false,
     "input": [
      "groupby_decade_normalized_runtime.mean()"
     ],
     "language": "python",
     "metadata": {},
     "outputs": [
      {
       "metadata": {},
       "output_type": "pyout",
       "prompt_number": 102,
       "text": [
        "year\n",
        "1950    0.286259\n",
        "1960    0.315800\n",
        "1970    0.298285\n",
        "1980    0.282547\n",
        "1990    0.288977\n",
        "2000    0.282026\n",
        "2010    0.280577\n",
        "Name: normalized_runtime, dtype: float64"
       ]
      }
     ],
     "prompt_number": 102
    },
    {
     "cell_type": "code",
     "collapsed": false,
     "input": [
      "groupby_decade_normalized_rating_mean = groupby_decade_normalized_rating.mean()\n",
      "groupby_decade_normalized_vote_mean= groupby_decade_normalized_vote.mean()\n",
      "groupby_decade_normalized_runtime_mean = groupby_decade_normalized_runtime.mean()"
     ],
     "language": "python",
     "metadata": {},
     "outputs": [],
     "prompt_number": 103
    },
    {
     "cell_type": "code",
     "collapsed": false,
     "input": [
      "plt.plot(groupby_decade_normalized_rating_mean.index, groupby_decade_normalized_rating_mean.values, 'o-',color='b',lw=3,label = 'Decade Average')\n",
      "plt.scatter(movieDF.year,y, color = 'red', alpha =0.1)\n",
      "plt.plot(groupby_decade_normalized_runtime_mean.index, groupby_decade_normalized_runtime_mean.values, 'o-',color='r',lw=3,label = 'Decade Average')\n",
      "plt.scatter(movieDF.year,z, color = 'blue', alpha = 0.1)\n",
      "plt.legend(frameon = False)\n",
      "remove_border()"
     ],
     "language": "python",
     "metadata": {},
     "outputs": [
      {
       "metadata": {},
       "output_type": "display_data",
       "png": "[encoded data removed]",
       "text": [
        "<matplotlib.figure.Figure at 0x13f2db610>"
       ]
      }
     ],
     "prompt_number": 107
    },
    {
     "cell_type": "code",
     "collapsed": false,
     "input": [
      "movieDF[(movieDF.rating > 8) & (movieDF.vote > 9e4)&(movieDF.Drama==1)][['title','year','rating','runtime','vote','genre']]"
     ],
     "language": "python",
     "metadata": {},
     "outputs": [
      {
       "html": [
        "<div style=\"max-height:1000px;max-width:1500px;overflow:auto;\">\n",
        "<table border=\"1\" class=\"dataframe\">\n",
        "  <thead>\n",
        "    <tr style=\"text-align: right;\">\n",
        "      <th></th>\n",
        "      <th>title</th>\n",
        "      <th>year</th>\n",
        "      <th>rating</th>\n",
        "      <th>runtime</th>\n",
        "      <th>vote</th>\n",
        "      <th>genre</th>\n",
        "    </tr>\n",
        "  </thead>\n",
        "  <tbody>\n",
        "    <tr>\n",
        "      <th>0   </th>\n",
        "      <td>              The Shawshank Redemption</td>\n",
        "      <td> 1994</td>\n",
        "      <td> 9.3</td>\n",
        "      <td> 142</td>\n",
        "      <td> 1439277</td>\n",
        "      <td>                                 [Crime, Drama]</td>\n",
        "    </tr>\n",
        "    <tr>\n",
        "      <th>1   </th>\n",
        "      <td>                       The Dark Knight</td>\n",
        "      <td> 2008</td>\n",
        "      <td> 9.0</td>\n",
        "      <td> 152</td>\n",
        "      <td> 1410124</td>\n",
        "      <td>                         [Action, Crime, Drama]</td>\n",
        "    </tr>\n",
        "    <tr>\n",
        "      <th>3   </th>\n",
        "      <td>                            Fight Club</td>\n",
        "      <td> 1999</td>\n",
        "      <td> 8.9</td>\n",
        "      <td> 139</td>\n",
        "      <td> 1123462</td>\n",
        "      <td>                                        [Drama]</td>\n",
        "    </tr>\n",
        "    <tr>\n",
        "      <th>4   </th>\n",
        "      <td>                          Pulp Fiction</td>\n",
        "      <td> 1994</td>\n",
        "      <td> 8.9</td>\n",
        "      <td> 154</td>\n",
        "      <td> 1117193</td>\n",
        "      <td>                                 [Crime, Drama]</td>\n",
        "    </tr>\n",
        "    <tr>\n",
        "      <th>8   </th>\n",
        "      <td>                          Forrest Gump</td>\n",
        "      <td> 1994</td>\n",
        "      <td> 8.8</td>\n",
        "      <td> 142</td>\n",
        "      <td> 1023198</td>\n",
        "      <td>                               [Drama, Romance]</td>\n",
        "    </tr>\n",
        "    <tr>\n",
        "      <th>9   </th>\n",
        "      <td>                         The Godfather</td>\n",
        "      <td> 1972</td>\n",
        "      <td> 9.2</td>\n",
        "      <td> 175</td>\n",
        "      <td>  988610</td>\n",
        "      <td>                                 [Crime, Drama]</td>\n",
        "    </tr>\n",
        "    <tr>\n",
        "      <th>12  </th>\n",
        "      <td>                                 Se7en</td>\n",
        "      <td> 1995</td>\n",
        "      <td> 8.7</td>\n",
        "      <td> 127</td>\n",
        "      <td>  855599</td>\n",
        "      <td>                     [Drama, Mystery, Thriller]</td>\n",
        "    </tr>\n",
        "    <tr>\n",
        "      <th>13  </th>\n",
        "      <td>                             Gladiator</td>\n",
        "      <td> 2000</td>\n",
        "      <td> 8.5</td>\n",
        "      <td> 155</td>\n",
        "      <td>  823879</td>\n",
        "      <td>                                [Action, Drama]</td>\n",
        "    </tr>\n",
        "    <tr>\n",
        "      <th>19  </th>\n",
        "      <td>                   Saving Private Ryan</td>\n",
        "      <td> 1998</td>\n",
        "      <td> 8.6</td>\n",
        "      <td> 169</td>\n",
        "      <td>  735953</td>\n",
        "      <td>                           [Action, Drama, War]</td>\n",
        "    </tr>\n",
        "    <tr>\n",
        "      <th>20  </th>\n",
        "      <td>                          The Departed</td>\n",
        "      <td> 2006</td>\n",
        "      <td> 8.5</td>\n",
        "      <td> 151</td>\n",
        "      <td>  731677</td>\n",
        "      <td>                       [Crime, Drama, Thriller]</td>\n",
        "    </tr>\n",
        "    <tr>\n",
        "      <th>21  </th>\n",
        "      <td>              The Silence of the Lambs</td>\n",
        "      <td> 1991</td>\n",
        "      <td> 8.6</td>\n",
        "      <td> 118</td>\n",
        "      <td>  730502</td>\n",
        "      <td>                              [Drama, Thriller]</td>\n",
        "    </tr>\n",
        "    <tr>\n",
        "      <th>22  </th>\n",
        "      <td>                 Schindler&amp;#x27;s List</td>\n",
        "      <td> 1993</td>\n",
        "      <td> 8.9</td>\n",
        "      <td> 195</td>\n",
        "      <td>  729884</td>\n",
        "      <td>                    [Biography, Drama, History]</td>\n",
        "    </tr>\n",
        "    <tr>\n",
        "      <th>24  </th>\n",
        "      <td>                  Inglourious Basterds</td>\n",
        "      <td> 2009</td>\n",
        "      <td> 8.3</td>\n",
        "      <td> 153</td>\n",
        "      <td>  716237</td>\n",
        "      <td>                        [Adventure, Drama, War]</td>\n",
        "    </tr>\n",
        "    <tr>\n",
        "      <th>25  </th>\n",
        "      <td>                       American Beauty</td>\n",
        "      <td> 1999</td>\n",
        "      <td> 8.4</td>\n",
        "      <td> 122</td>\n",
        "      <td>  709052</td>\n",
        "      <td>                               [Drama, Romance]</td>\n",
        "    </tr>\n",
        "    <tr>\n",
        "      <th>26  </th>\n",
        "      <td>                          The Prestige</td>\n",
        "      <td> 2006</td>\n",
        "      <td> 8.5</td>\n",
        "      <td> 130</td>\n",
        "      <td>  700119</td>\n",
        "      <td>                     [Drama, Mystery, Thriller]</td>\n",
        "    </tr>\n",
        "    <tr>\n",
        "      <th>29  </th>\n",
        "      <td>                        V for Vendetta</td>\n",
        "      <td> 2005</td>\n",
        "      <td> 8.2</td>\n",
        "      <td> 132</td>\n",
        "      <td>  673966</td>\n",
        "      <td>                      [Action, Drama, Thriller]</td>\n",
        "    </tr>\n",
        "    <tr>\n",
        "      <th>31  </th>\n",
        "      <td>                    American History X</td>\n",
        "      <td> 1998</td>\n",
        "      <td> 8.6</td>\n",
        "      <td> 119</td>\n",
        "      <td>  667321</td>\n",
        "      <td>                                 [Crime, Drama]</td>\n",
        "    </tr>\n",
        "    <tr>\n",
        "      <th>32  </th>\n",
        "      <td>                The Godfather: Part II</td>\n",
        "      <td> 1974</td>\n",
        "      <td> 9.1</td>\n",
        "      <td> 200</td>\n",
        "      <td>  664113</td>\n",
        "      <td>                                 [Crime, Drama]</td>\n",
        "    </tr>\n",
        "    <tr>\n",
        "      <th>33  </th>\n",
        "      <td>                        The Green Mile</td>\n",
        "      <td> 1999</td>\n",
        "      <td> 8.5</td>\n",
        "      <td> 189</td>\n",
        "      <td>  639053</td>\n",
        "      <td>               [Crime, Drama, Fantasy, Mystery]</td>\n",
        "    </tr>\n",
        "    <tr>\n",
        "      <th>35  </th>\n",
        "      <td>                    The Usual Suspects</td>\n",
        "      <td> 1995</td>\n",
        "      <td> 8.7</td>\n",
        "      <td> 106</td>\n",
        "      <td>  630416</td>\n",
        "      <td>                       [Crime, Drama, Thriller]</td>\n",
        "    </tr>\n",
        "    <tr>\n",
        "      <th>36  </th>\n",
        "      <td>                            Braveheart</td>\n",
        "      <td> 1995</td>\n",
        "      <td> 8.4</td>\n",
        "      <td> 177</td>\n",
        "      <td>  628937</td>\n",
        "      <td>       [Action, Biography, Drama, History, War]</td>\n",
        "    </tr>\n",
        "    <tr>\n",
        "      <th>39  </th>\n",
        "      <td>                            Goodfellas</td>\n",
        "      <td> 1990</td>\n",
        "      <td> 8.7</td>\n",
        "      <td> 146</td>\n",
        "      <td>  619154</td>\n",
        "      <td>                      [Biography, Crime, Drama]</td>\n",
        "    </tr>\n",
        "    <tr>\n",
        "      <th>40  </th>\n",
        "      <td>                       The Sixth Sense</td>\n",
        "      <td> 1999</td>\n",
        "      <td> 8.2</td>\n",
        "      <td> 107</td>\n",
        "      <td>  608654</td>\n",
        "      <td>                     [Drama, Mystery, Thriller]</td>\n",
        "    </tr>\n",
        "    <tr>\n",
        "      <th>41  </th>\n",
        "      <td>           L&amp;#xE9;on: The Professional</td>\n",
        "      <td> 1994</td>\n",
        "      <td> 8.6</td>\n",
        "      <td> 110</td>\n",
        "      <td>  607890</td>\n",
        "      <td>                       [Crime, Drama, Thriller]</td>\n",
        "    </tr>\n",
        "    <tr>\n",
        "      <th>45  </th>\n",
        "      <td>  One Flew Over the Cuckoo&amp;#x27;s Nest</td>\n",
        "      <td> 1975</td>\n",
        "      <td> 8.7</td>\n",
        "      <td> 133</td>\n",
        "      <td>  584728</td>\n",
        "      <td>                                        [Drama]</td>\n",
        "    </tr>\n",
        "    <tr>\n",
        "      <th>48  </th>\n",
        "      <td> Eternal Sunshine of the Spotless Mind</td>\n",
        "      <td> 2004</td>\n",
        "      <td> 8.4</td>\n",
        "      <td> 108</td>\n",
        "      <td>  567126</td>\n",
        "      <td>                       [Drama, Romance, Sci-Fi]</td>\n",
        "    </tr>\n",
        "    <tr>\n",
        "      <th>52  </th>\n",
        "      <td>                       The Truman Show</td>\n",
        "      <td> 1998</td>\n",
        "      <td> 8.1</td>\n",
        "      <td> 103</td>\n",
        "      <td>  557934</td>\n",
        "      <td>                                        [Drama]</td>\n",
        "    </tr>\n",
        "    <tr>\n",
        "      <th>54  </th>\n",
        "      <td>                        Reservoir Dogs</td>\n",
        "      <td> 1992</td>\n",
        "      <td> 8.4</td>\n",
        "      <td>  99</td>\n",
        "      <td>  554235</td>\n",
        "      <td>                                 [Crime, Drama]</td>\n",
        "    </tr>\n",
        "    <tr>\n",
        "      <th>58  </th>\n",
        "      <td>                No Country for Old Men</td>\n",
        "      <td> 2007</td>\n",
        "      <td> 8.1</td>\n",
        "      <td> 122</td>\n",
        "      <td>  520333</td>\n",
        "      <td>                       [Crime, Drama, Thriller]</td>\n",
        "    </tr>\n",
        "    <tr>\n",
        "      <th>59  </th>\n",
        "      <td>                         The Lion King</td>\n",
        "      <td> 1994</td>\n",
        "      <td> 8.5</td>\n",
        "      <td>  89</td>\n",
        "      <td>  519376</td>\n",
        "      <td> [Animation, Adventure, Drama, Family, Musical]</td>\n",
        "    </tr>\n",
        "    <tr>\n",
        "      <th>...</th>\n",
        "      <td>...</td>\n",
        "      <td>...</td>\n",
        "      <td>...</td>\n",
        "      <td>...</td>\n",
        "      <td>...</td>\n",
        "      <td>...</td>\n",
        "    </tr>\n",
        "    <tr>\n",
        "      <th>456 </th>\n",
        "      <td>                             Chinatown</td>\n",
        "      <td> 1974</td>\n",
        "      <td> 8.3</td>\n",
        "      <td> 130</td>\n",
        "      <td>  186115</td>\n",
        "      <td>                     [Drama, Mystery, Thriller]</td>\n",
        "    </tr>\n",
        "    <tr>\n",
        "      <th>476 </th>\n",
        "      <td>                 To Kill a Mockingbird</td>\n",
        "      <td> 1962</td>\n",
        "      <td> 8.4</td>\n",
        "      <td> 129</td>\n",
        "      <td>  181433</td>\n",
        "      <td>                                        [Drama]</td>\n",
        "    </tr>\n",
        "    <tr>\n",
        "      <th>552 </th>\n",
        "      <td>                    Lawrence of Arabia</td>\n",
        "      <td> 1962</td>\n",
        "      <td> 8.4</td>\n",
        "      <td> 216</td>\n",
        "      <td>  164421</td>\n",
        "      <td>    [Adventure, Biography, Drama, History, War]</td>\n",
        "    </tr>\n",
        "    <tr>\n",
        "      <th>555 </th>\n",
        "      <td>                            Annie Hall</td>\n",
        "      <td> 1977</td>\n",
        "      <td> 8.1</td>\n",
        "      <td>  93</td>\n",
        "      <td>  163947</td>\n",
        "      <td>                       [Comedy, Drama, Romance]</td>\n",
        "    </tr>\n",
        "    <tr>\n",
        "      <th>581 </th>\n",
        "      <td>                     Dog Day Afternoon</td>\n",
        "      <td> 1975</td>\n",
        "      <td> 8.1</td>\n",
        "      <td> 125</td>\n",
        "      <td>  159175</td>\n",
        "      <td>                                 [Crime, Drama]</td>\n",
        "    </tr>\n",
        "    <tr>\n",
        "      <th>608 </th>\n",
        "      <td>                              3 Idiots</td>\n",
        "      <td> 2009</td>\n",
        "      <td> 8.5</td>\n",
        "      <td> 170</td>\n",
        "      <td>  154904</td>\n",
        "      <td>                                [Comedy, Drama]</td>\n",
        "    </tr>\n",
        "    <tr>\n",
        "      <th>619 </th>\n",
        "      <td>                        Before Sunrise</td>\n",
        "      <td> 1995</td>\n",
        "      <td> 8.1</td>\n",
        "      <td> 105</td>\n",
        "      <td>  151831</td>\n",
        "      <td>                               [Drama, Romance]</td>\n",
        "    </tr>\n",
        "    <tr>\n",
        "      <th>623 </th>\n",
        "      <td>                         Amores Perros</td>\n",
        "      <td> 2000</td>\n",
        "      <td> 8.1</td>\n",
        "      <td> 154</td>\n",
        "      <td>  151251</td>\n",
        "      <td>                              [Drama, Thriller]</td>\n",
        "    </tr>\n",
        "    <tr>\n",
        "      <th>628 </th>\n",
        "      <td>                             The Sting</td>\n",
        "      <td> 1973</td>\n",
        "      <td> 8.4</td>\n",
        "      <td> 129</td>\n",
        "      <td>  150307</td>\n",
        "      <td>                         [Comedy, Crime, Drama]</td>\n",
        "    </tr>\n",
        "    <tr>\n",
        "      <th>641 </th>\n",
        "      <td>                              Das Boot</td>\n",
        "      <td> 1981</td>\n",
        "      <td> 8.4</td>\n",
        "      <td> 149</td>\n",
        "      <td>  146604</td>\n",
        "      <td>                        [Adventure, Drama, War]</td>\n",
        "    </tr>\n",
        "    <tr>\n",
        "      <th>648 </th>\n",
        "      <td>                                Gandhi</td>\n",
        "      <td> 1982</td>\n",
        "      <td> 8.1</td>\n",
        "      <td> 191</td>\n",
        "      <td>  145706</td>\n",
        "      <td>                    [Biography, Drama, History]</td>\n",
        "    </tr>\n",
        "    <tr>\n",
        "      <th>668 </th>\n",
        "      <td>                      The Great Escape</td>\n",
        "      <td> 1963</td>\n",
        "      <td> 8.3</td>\n",
        "      <td> 172</td>\n",
        "      <td>  141464</td>\n",
        "      <td>               [Adventure, Drama, History, War]</td>\n",
        "    </tr>\n",
        "    <tr>\n",
        "      <th>671 </th>\n",
        "      <td>                         Before Sunset</td>\n",
        "      <td> 2004</td>\n",
        "      <td> 8.1</td>\n",
        "      <td>  80</td>\n",
        "      <td>  141340</td>\n",
        "      <td>                               [Drama, Romance]</td>\n",
        "    </tr>\n",
        "    <tr>\n",
        "      <th>675 </th>\n",
        "      <td>                      The Elephant Man</td>\n",
        "      <td> 1980</td>\n",
        "      <td> 8.2</td>\n",
        "      <td> 124</td>\n",
        "      <td>  140649</td>\n",
        "      <td>                             [Biography, Drama]</td>\n",
        "    </tr>\n",
        "    <tr>\n",
        "      <th>703 </th>\n",
        "      <td>                               Ben-Hur</td>\n",
        "      <td> 1959</td>\n",
        "      <td> 8.1</td>\n",
        "      <td> 212</td>\n",
        "      <td>  136649</td>\n",
        "      <td>                    [Adventure, Drama, History]</td>\n",
        "    </tr>\n",
        "    <tr>\n",
        "      <th>732 </th>\n",
        "      <td>                                Ip Man</td>\n",
        "      <td> 2008</td>\n",
        "      <td> 8.1</td>\n",
        "      <td> 106</td>\n",
        "      <td>  130941</td>\n",
        "      <td>              [Action, Biography, Drama, Sport]</td>\n",
        "    </tr>\n",
        "    <tr>\n",
        "      <th>745 </th>\n",
        "      <td>                              The Hunt</td>\n",
        "      <td> 2012</td>\n",
        "      <td> 8.3</td>\n",
        "      <td> 115</td>\n",
        "      <td>  128936</td>\n",
        "      <td>                                        [Drama]</td>\n",
        "    </tr>\n",
        "    <tr>\n",
        "      <th>748 </th>\n",
        "      <td>                          A Separation</td>\n",
        "      <td> 2011</td>\n",
        "      <td> 8.4</td>\n",
        "      <td> 123</td>\n",
        "      <td>  128595</td>\n",
        "      <td>                                        [Drama]</td>\n",
        "    </tr>\n",
        "    <tr>\n",
        "      <th>751 </th>\n",
        "      <td>          The Bridge on the River Kwai</td>\n",
        "      <td> 1957</td>\n",
        "      <td> 8.3</td>\n",
        "      <td> 161</td>\n",
        "      <td>  128123</td>\n",
        "      <td>                        [Adventure, Drama, War]</td>\n",
        "    </tr>\n",
        "    <tr>\n",
        "      <th>768 </th>\n",
        "      <td>                       Cinema Paradiso</td>\n",
        "      <td> 1988</td>\n",
        "      <td> 8.5</td>\n",
        "      <td> 155</td>\n",
        "      <td>  126587</td>\n",
        "      <td>                                        [Drama]</td>\n",
        "    </tr>\n",
        "    <tr>\n",
        "      <th>826 </th>\n",
        "      <td>                          Sunset Blvd.</td>\n",
        "      <td> 1950</td>\n",
        "      <td> 8.5</td>\n",
        "      <td> 110</td>\n",
        "      <td>  119510</td>\n",
        "      <td>                             [Drama, Film-Noir]</td>\n",
        "    </tr>\n",
        "    <tr>\n",
        "      <th>877 </th>\n",
        "      <td>              Hachi: A Dog&amp;#x27;s Tale</td>\n",
        "      <td> 2009</td>\n",
        "      <td> 8.2</td>\n",
        "      <td>  93</td>\n",
        "      <td>  112849</td>\n",
        "      <td>                                [Drama, Family]</td>\n",
        "    </tr>\n",
        "    <tr>\n",
        "      <th>912 </th>\n",
        "      <td>                Grave of the Fireflies</td>\n",
        "      <td> 1988</td>\n",
        "      <td> 8.5</td>\n",
        "      <td>  89</td>\n",
        "      <td>  109113</td>\n",
        "      <td>                        [Animation, Drama, War]</td>\n",
        "    </tr>\n",
        "    <tr>\n",
        "      <th>943 </th>\n",
        "      <td>                        Cool Hand Luke</td>\n",
        "      <td> 1967</td>\n",
        "      <td> 8.2</td>\n",
        "      <td> 126</td>\n",
        "      <td>  104665</td>\n",
        "      <td>                                 [Crime, Drama]</td>\n",
        "    </tr>\n",
        "    <tr>\n",
        "      <th>958 </th>\n",
        "      <td>              The Secret in Their Eyes</td>\n",
        "      <td> 2009</td>\n",
        "      <td> 8.3</td>\n",
        "      <td> 129</td>\n",
        "      <td>  103350</td>\n",
        "      <td>                     [Drama, Mystery, Thriller]</td>\n",
        "    </tr>\n",
        "    <tr>\n",
        "      <th>973 </th>\n",
        "      <td>                        Paths of Glory</td>\n",
        "      <td> 1957</td>\n",
        "      <td> 8.5</td>\n",
        "      <td>  88</td>\n",
        "      <td>  101891</td>\n",
        "      <td>                                   [Drama, War]</td>\n",
        "    </tr>\n",
        "    <tr>\n",
        "      <th>1022</th>\n",
        "      <td>                          Mary and Max</td>\n",
        "      <td> 2009</td>\n",
        "      <td> 8.2</td>\n",
        "      <td>  92</td>\n",
        "      <td>   97448</td>\n",
        "      <td>                     [Animation, Comedy, Drama]</td>\n",
        "    </tr>\n",
        "    <tr>\n",
        "      <th>1042</th>\n",
        "      <td>                      The Seventh Seal</td>\n",
        "      <td> 1957</td>\n",
        "      <td> 8.3</td>\n",
        "      <td>  96</td>\n",
        "      <td>   95290</td>\n",
        "      <td>                               [Drama, Fantasy]</td>\n",
        "    </tr>\n",
        "    <tr>\n",
        "      <th>1075</th>\n",
        "      <td>                         The Apartment</td>\n",
        "      <td> 1960</td>\n",
        "      <td> 8.3</td>\n",
        "      <td> 125</td>\n",
        "      <td>   92639</td>\n",
        "      <td>                       [Comedy, Drama, Romance]</td>\n",
        "    </tr>\n",
        "    <tr>\n",
        "      <th>1084</th>\n",
        "      <td>             In the Name of the Father</td>\n",
        "      <td> 1993</td>\n",
        "      <td> 8.1</td>\n",
        "      <td> 133</td>\n",
        "      <td>   91310</td>\n",
        "      <td>                    [Biography, Drama, History]</td>\n",
        "    </tr>\n",
        "  </tbody>\n",
        "</table>\n",
        "<p>101 rows \u00d7 6 columns</p>\n",
        "</div>"
       ],
       "metadata": {},
       "output_type": "pyout",
       "prompt_number": 122,
       "text": [
        "                                      title  year  rating  runtime     vote                                           genre\n",
        "0                  The Shawshank Redemption  1994     9.3      142  1439277                                  [Crime, Drama]\n",
        "1                           The Dark Knight  2008     9.0      152  1410124                          [Action, Crime, Drama]\n",
        "3                                Fight Club  1999     8.9      139  1123462                                         [Drama]\n",
        "4                              Pulp Fiction  1994     8.9      154  1117193                                  [Crime, Drama]\n",
        "8                              Forrest Gump  1994     8.8      142  1023198                                [Drama, Romance]\n",
        "9                             The Godfather  1972     9.2      175   988610                                  [Crime, Drama]\n",
        "12                                    Se7en  1995     8.7      127   855599                      [Drama, Mystery, Thriller]\n",
        "13                                Gladiator  2000     8.5      155   823879                                 [Action, Drama]\n",
        "19                      Saving Private Ryan  1998     8.6      169   735953                            [Action, Drama, War]\n",
        "20                             The Departed  2006     8.5      151   731677                        [Crime, Drama, Thriller]\n",
        "21                 The Silence of the Lambs  1991     8.6      118   730502                               [Drama, Thriller]\n",
        "22                    Schindler&#x27;s List  1993     8.9      195   729884                     [Biography, Drama, History]\n",
        "24                     Inglourious Basterds  2009     8.3      153   716237                         [Adventure, Drama, War]\n",
        "25                          American Beauty  1999     8.4      122   709052                                [Drama, Romance]\n",
        "26                             The Prestige  2006     8.5      130   700119                      [Drama, Mystery, Thriller]\n",
        "29                           V for Vendetta  2005     8.2      132   673966                       [Action, Drama, Thriller]\n",
        "31                       American History X  1998     8.6      119   667321                                  [Crime, Drama]\n",
        "32                   The Godfather: Part II  1974     9.1      200   664113                                  [Crime, Drama]\n",
        "33                           The Green Mile  1999     8.5      189   639053                [Crime, Drama, Fantasy, Mystery]\n",
        "35                       The Usual Suspects  1995     8.7      106   630416                        [Crime, Drama, Thriller]\n",
        "36                               Braveheart  1995     8.4      177   628937        [Action, Biography, Drama, History, War]\n",
        "39                               Goodfellas  1990     8.7      146   619154                       [Biography, Crime, Drama]\n",
        "40                          The Sixth Sense  1999     8.2      107   608654                      [Drama, Mystery, Thriller]\n",
        "41              L&#xE9;on: The Professional  1994     8.6      110   607890                        [Crime, Drama, Thriller]\n",
        "45     One Flew Over the Cuckoo&#x27;s Nest  1975     8.7      133   584728                                         [Drama]\n",
        "48    Eternal Sunshine of the Spotless Mind  2004     8.4      108   567126                        [Drama, Romance, Sci-Fi]\n",
        "52                          The Truman Show  1998     8.1      103   557934                                         [Drama]\n",
        "54                           Reservoir Dogs  1992     8.4       99   554235                                  [Crime, Drama]\n",
        "58                   No Country for Old Men  2007     8.1      122   520333                        [Crime, Drama, Thriller]\n",
        "59                            The Lion King  1994     8.5       89   519376  [Animation, Adventure, Drama, Family, Musical]\n",
        "...                                     ...   ...     ...      ...      ...                                             ...\n",
        "456                               Chinatown  1974     8.3      130   186115                      [Drama, Mystery, Thriller]\n",
        "476                   To Kill a Mockingbird  1962     8.4      129   181433                                         [Drama]\n",
        "552                      Lawrence of Arabia  1962     8.4      216   164421     [Adventure, Biography, Drama, History, War]\n",
        "555                              Annie Hall  1977     8.1       93   163947                        [Comedy, Drama, Romance]\n",
        "581                       Dog Day Afternoon  1975     8.1      125   159175                                  [Crime, Drama]\n",
        "608                                3 Idiots  2009     8.5      170   154904                                 [Comedy, Drama]\n",
        "619                          Before Sunrise  1995     8.1      105   151831                                [Drama, Romance]\n",
        "623                           Amores Perros  2000     8.1      154   151251                               [Drama, Thriller]\n",
        "628                               The Sting  1973     8.4      129   150307                          [Comedy, Crime, Drama]\n",
        "641                                Das Boot  1981     8.4      149   146604                         [Adventure, Drama, War]\n",
        "648                                  Gandhi  1982     8.1      191   145706                     [Biography, Drama, History]\n",
        "668                        The Great Escape  1963     8.3      172   141464                [Adventure, Drama, History, War]\n",
        "671                           Before Sunset  2004     8.1       80   141340                                [Drama, Romance]\n",
        "675                        The Elephant Man  1980     8.2      124   140649                              [Biography, Drama]\n",
        "703                                 Ben-Hur  1959     8.1      212   136649                     [Adventure, Drama, History]\n",
        "732                                  Ip Man  2008     8.1      106   130941               [Action, Biography, Drama, Sport]\n",
        "745                                The Hunt  2012     8.3      115   128936                                         [Drama]\n",
        "748                            A Separation  2011     8.4      123   128595                                         [Drama]\n",
        "751            The Bridge on the River Kwai  1957     8.3      161   128123                         [Adventure, Drama, War]\n",
        "768                         Cinema Paradiso  1988     8.5      155   126587                                         [Drama]\n",
        "826                            Sunset Blvd.  1950     8.5      110   119510                              [Drama, Film-Noir]\n",
        "877                Hachi: A Dog&#x27;s Tale  2009     8.2       93   112849                                 [Drama, Family]\n",
        "912                  Grave of the Fireflies  1988     8.5       89   109113                         [Animation, Drama, War]\n",
        "943                          Cool Hand Luke  1967     8.2      126   104665                                  [Crime, Drama]\n",
        "958                The Secret in Their Eyes  2009     8.3      129   103350                      [Drama, Mystery, Thriller]\n",
        "973                          Paths of Glory  1957     8.5       88   101891                                    [Drama, War]\n",
        "1022                           Mary and Max  2009     8.2       92    97448                      [Animation, Comedy, Drama]\n",
        "1042                       The Seventh Seal  1957     8.3       96    95290                                [Drama, Fantasy]\n",
        "1075                          The Apartment  1960     8.3      125    92639                        [Comedy, Drama, Romance]\n",
        "1084              In the Name of the Father  1993     8.1      133    91310                     [Biography, Drama, History]\n",
        "\n",
        "[101 rows x 6 columns]"
       ]
      }
     ],
     "prompt_number": 122
    },
    {
     "cell_type": "code",
     "collapsed": false,
     "input": [
      "movieDF[movieDF.rating == movieDF.rating.max()][['title','year','rating','runtime']]"
     ],
     "language": "python",
     "metadata": {},
     "outputs": [
      {
       "html": [
        "<div style=\"max-height:1000px;max-width:1500px;overflow:auto;\">\n",
        "<table border=\"1\" class=\"dataframe\">\n",
        "  <thead>\n",
        "    <tr style=\"text-align: right;\">\n",
        "      <th></th>\n",
        "      <th>title</th>\n",
        "      <th>year</th>\n",
        "      <th>rating</th>\n",
        "      <th>runtime</th>\n",
        "    </tr>\n",
        "  </thead>\n",
        "  <tbody>\n",
        "    <tr>\n",
        "      <th>0</th>\n",
        "      <td> The Shawshank Redemption</td>\n",
        "      <td> 1994</td>\n",
        "      <td> 9.3</td>\n",
        "      <td> 142</td>\n",
        "    </tr>\n",
        "  </tbody>\n",
        "</table>\n",
        "</div>"
       ],
       "metadata": {},
       "output_type": "pyout",
       "prompt_number": 125,
       "text": [
        "                      title  year  rating  runtime\n",
        "0  The Shawshank Redemption  1994     9.3      142"
       ]
      }
     ],
     "prompt_number": 125
    },
    {
     "cell_type": "code",
     "collapsed": false,
     "input": [
      "movieDF[(movieDF.rating > 8) & (movieDF.vote < 2e4)][['title','year','rating','runtime','vote','genre']]"
     ],
     "language": "python",
     "metadata": {},
     "outputs": [
      {
       "html": [
        "<div style=\"max-height:1000px;max-width:1500px;overflow:auto;\">\n",
        "<table border=\"1\" class=\"dataframe\">\n",
        "  <thead>\n",
        "    <tr style=\"text-align: right;\">\n",
        "      <th></th>\n",
        "      <th>title</th>\n",
        "      <th>year</th>\n",
        "      <th>rating</th>\n",
        "      <th>runtime</th>\n",
        "      <th>vote</th>\n",
        "      <th>genre</th>\n",
        "    </tr>\n",
        "  </thead>\n",
        "  <tbody>\n",
        "    <tr>\n",
        "      <th>3586</th>\n",
        "      <td>                                          Black</td>\n",
        "      <td> 2005</td>\n",
        "      <td> 8.3</td>\n",
        "      <td> 122</td>\n",
        "      <td> 19810</td>\n",
        "      <td>                                      [Drama]</td>\n",
        "    </tr>\n",
        "    <tr>\n",
        "      <th>3600</th>\n",
        "      <td>                                     The Breath</td>\n",
        "      <td> 2009</td>\n",
        "      <td> 8.1</td>\n",
        "      <td> 128</td>\n",
        "      <td> 19689</td>\n",
        "      <td>               [Action, Drama, Thriller, War]</td>\n",
        "    </tr>\n",
        "    <tr>\n",
        "      <th>3605</th>\n",
        "      <td>                           Lage Raho Munna Bhai</td>\n",
        "      <td> 2006</td>\n",
        "      <td> 8.2</td>\n",
        "      <td> 144</td>\n",
        "      <td> 19624</td>\n",
        "      <td>                     [Comedy, Drama, Romance]</td>\n",
        "    </tr>\n",
        "    <tr>\n",
        "      <th>3650</th>\n",
        "      <td>                                   Fitzcarraldo</td>\n",
        "      <td> 1982</td>\n",
        "      <td> 8.1</td>\n",
        "      <td> 158</td>\n",
        "      <td> 19149</td>\n",
        "      <td>                [Adventure, Biography, Drama]</td>\n",
        "    </tr>\n",
        "    <tr>\n",
        "      <th>3675</th>\n",
        "      <td>                                     About Elly</td>\n",
        "      <td> 2009</td>\n",
        "      <td> 8.2</td>\n",
        "      <td> 119</td>\n",
        "      <td> 18916</td>\n",
        "      <td>                             [Drama, Mystery]</td>\n",
        "    </tr>\n",
        "    <tr>\n",
        "      <th>3692</th>\n",
        "      <td>                               Inherit the Wind</td>\n",
        "      <td> 1960</td>\n",
        "      <td> 8.2</td>\n",
        "      <td> 128</td>\n",
        "      <td> 18699</td>\n",
        "      <td>                             [Drama, History]</td>\n",
        "    </tr>\n",
        "    <tr>\n",
        "      <th>3711</th>\n",
        "      <td>                          Raise the Red Lantern</td>\n",
        "      <td> 1991</td>\n",
        "      <td> 8.2</td>\n",
        "      <td> 125</td>\n",
        "      <td> 18579</td>\n",
        "      <td>                                      [Drama]</td>\n",
        "    </tr>\n",
        "    <tr>\n",
        "      <th>3723</th>\n",
        "      <td>                                OMG: Oh My God!</td>\n",
        "      <td> 2012</td>\n",
        "      <td> 8.2</td>\n",
        "      <td> 125</td>\n",
        "      <td> 18471</td>\n",
        "      <td>             [Comedy, Drama, Family, Fantasy]</td>\n",
        "    </tr>\n",
        "    <tr>\n",
        "      <th>3743</th>\n",
        "      <td>                                     Hera Pheri</td>\n",
        "      <td> 2000</td>\n",
        "      <td> 8.5</td>\n",
        "      <td> 156</td>\n",
        "      <td> 18191</td>\n",
        "      <td>                    [Comedy, Crime, Thriller]</td>\n",
        "    </tr>\n",
        "    <tr>\n",
        "      <th>3756</th>\n",
        "      <td>                               Jean de Florette</td>\n",
        "      <td> 1986</td>\n",
        "      <td> 8.1</td>\n",
        "      <td> 120</td>\n",
        "      <td> 18023</td>\n",
        "      <td>                                      [Drama]</td>\n",
        "    </tr>\n",
        "    <tr>\n",
        "      <th>3811</th>\n",
        "      <td>                         Sweet Smell of Success</td>\n",
        "      <td> 1957</td>\n",
        "      <td> 8.2</td>\n",
        "      <td>  96</td>\n",
        "      <td> 17624</td>\n",
        "      <td>                           [Drama, Film-Noir]</td>\n",
        "    </tr>\n",
        "    <tr>\n",
        "      <th>3822</th>\n",
        "      <td>                                     The Mirror</td>\n",
        "      <td> 1975</td>\n",
        "      <td> 8.1</td>\n",
        "      <td> 108</td>\n",
        "      <td> 17497</td>\n",
        "      <td>                           [Biography, Drama]</td>\n",
        "    </tr>\n",
        "    <tr>\n",
        "      <th>3827</th>\n",
        "      <td>                          Cries &amp;#x26; Whispers</td>\n",
        "      <td> 1972</td>\n",
        "      <td> 8.1</td>\n",
        "      <td>  91</td>\n",
        "      <td> 17443</td>\n",
        "      <td>                                      [Drama]</td>\n",
        "    </tr>\n",
        "    <tr>\n",
        "      <th>3847</th>\n",
        "      <td>                        The Exterminating Angel</td>\n",
        "      <td> 1962</td>\n",
        "      <td> 8.1</td>\n",
        "      <td>  95</td>\n",
        "      <td> 17361</td>\n",
        "      <td>            [Comedy, Drama, Fantasy, Mystery]</td>\n",
        "    </tr>\n",
        "    <tr>\n",
        "      <th>3856</th>\n",
        "      <td>                                        Sanjuro</td>\n",
        "      <td> 1962</td>\n",
        "      <td> 8.2</td>\n",
        "      <td>  96</td>\n",
        "      <td> 17249</td>\n",
        "      <td>                    [Action, Drama, Thriller]</td>\n",
        "    </tr>\n",
        "    <tr>\n",
        "      <th>3916</th>\n",
        "      <td>                           The Twilight Samurai</td>\n",
        "      <td> 2002</td>\n",
        "      <td> 8.2</td>\n",
        "      <td> 129</td>\n",
        "      <td> 16765</td>\n",
        "      <td>                             [Drama, Romance]</td>\n",
        "    </tr>\n",
        "    <tr>\n",
        "      <th>3921</th>\n",
        "      <td>                               Paan Singh Tomar</td>\n",
        "      <td> 2012</td>\n",
        "      <td> 8.3</td>\n",
        "      <td> 135</td>\n",
        "      <td> 16746</td>\n",
        "      <td>  [Action, Biography, Crime, Sport, Thriller]</td>\n",
        "    </tr>\n",
        "    <tr>\n",
        "      <th>3929</th>\n",
        "      <td>                              The Virgin Spring</td>\n",
        "      <td> 1960</td>\n",
        "      <td> 8.1</td>\n",
        "      <td>  89</td>\n",
        "      <td> 16639</td>\n",
        "      <td>                                      [Drama]</td>\n",
        "    </tr>\n",
        "    <tr>\n",
        "      <th>3934</th>\n",
        "      <td>                                Ace in the Hole</td>\n",
        "      <td> 1951</td>\n",
        "      <td> 8.2</td>\n",
        "      <td> 111</td>\n",
        "      <td> 16603</td>\n",
        "      <td>                           [Drama, Film-Noir]</td>\n",
        "    </tr>\n",
        "    <tr>\n",
        "      <th>3950</th>\n",
        "      <td>                                          Dev D</td>\n",
        "      <td> 2009</td>\n",
        "      <td> 8.1</td>\n",
        "      <td> 144</td>\n",
        "      <td> 16507</td>\n",
        "      <td>                     [Comedy, Drama, Romance]</td>\n",
        "    </tr>\n",
        "    <tr>\n",
        "      <th>3975</th>\n",
        "      <td>                                         Rififi</td>\n",
        "      <td> 1955</td>\n",
        "      <td> 8.2</td>\n",
        "      <td> 122</td>\n",
        "      <td> 16347</td>\n",
        "      <td>                     [Crime, Drama, Thriller]</td>\n",
        "    </tr>\n",
        "    <tr>\n",
        "      <th>4003</th>\n",
        "      <td> Neon Genesis Evangelion: The End of Evangelion</td>\n",
        "      <td> 1997</td>\n",
        "      <td> 8.2</td>\n",
        "      <td>  90</td>\n",
        "      <td> 16191</td>\n",
        "      <td>  [Animation, Action, Drama, Fantasy, Sci-Fi]</td>\n",
        "    </tr>\n",
        "    <tr>\n",
        "      <th>4019</th>\n",
        "      <td>                                    Dersu Uzala</td>\n",
        "      <td> 1975</td>\n",
        "      <td> 8.3</td>\n",
        "      <td> 144</td>\n",
        "      <td> 16072</td>\n",
        "      <td>                [Adventure, Biography, Drama]</td>\n",
        "    </tr>\n",
        "    <tr>\n",
        "      <th>4033</th>\n",
        "      <td>                                       Harakiri</td>\n",
        "      <td> 1962</td>\n",
        "      <td> 8.6</td>\n",
        "      <td> 133</td>\n",
        "      <td> 15951</td>\n",
        "      <td>                     [Action, Drama, History]</td>\n",
        "    </tr>\n",
        "    <tr>\n",
        "      <th>4043</th>\n",
        "      <td>                                              Z</td>\n",
        "      <td> 1969</td>\n",
        "      <td> 8.2</td>\n",
        "      <td> 127</td>\n",
        "      <td> 15881</td>\n",
        "      <td>   [Crime, Drama, History, Mystery, Thriller]</td>\n",
        "    </tr>\n",
        "    <tr>\n",
        "      <th>4052</th>\n",
        "      <td>                                   High and Low</td>\n",
        "      <td> 1963</td>\n",
        "      <td> 8.4</td>\n",
        "      <td> 143</td>\n",
        "      <td> 15811</td>\n",
        "      <td>            [Crime, Drama, Mystery, Thriller]</td>\n",
        "    </tr>\n",
        "    <tr>\n",
        "      <th>4072</th>\n",
        "      <td>                            Time of the Gypsies</td>\n",
        "      <td> 1988</td>\n",
        "      <td> 8.3</td>\n",
        "      <td> 142</td>\n",
        "      <td> 15690</td>\n",
        "      <td>              [Comedy, Crime, Drama, Fantasy]</td>\n",
        "    </tr>\n",
        "    <tr>\n",
        "      <th>4074</th>\n",
        "      <td>                                   Nobody Knows</td>\n",
        "      <td> 2004</td>\n",
        "      <td> 8.1</td>\n",
        "      <td> 141</td>\n",
        "      <td> 15670</td>\n",
        "      <td>                                      [Drama]</td>\n",
        "    </tr>\n",
        "    <tr>\n",
        "      <th>4127</th>\n",
        "      <td>                          Ivan&amp;#x27;s Childhood</td>\n",
        "      <td> 1962</td>\n",
        "      <td> 8.1</td>\n",
        "      <td>  95</td>\n",
        "      <td> 15282</td>\n",
        "      <td>                                 [Drama, War]</td>\n",
        "    </tr>\n",
        "    <tr>\n",
        "      <th>4136</th>\n",
        "      <td>                          Farewell My Concubine</td>\n",
        "      <td> 1993</td>\n",
        "      <td> 8.1</td>\n",
        "      <td> 171</td>\n",
        "      <td> 15164</td>\n",
        "      <td>                      [Drama, Music, Romance]</td>\n",
        "    </tr>\n",
        "    <tr>\n",
        "      <th>4137</th>\n",
        "      <td>                            Manon of the Spring</td>\n",
        "      <td> 1986</td>\n",
        "      <td> 8.1</td>\n",
        "      <td> 113</td>\n",
        "      <td> 15158</td>\n",
        "      <td>                                      [Drama]</td>\n",
        "    </tr>\n",
        "    <tr>\n",
        "      <th>4183</th>\n",
        "      <td>                              The Best of Youth</td>\n",
        "      <td> 2003</td>\n",
        "      <td> 8.5</td>\n",
        "      <td> 383</td>\n",
        "      <td> 14894</td>\n",
        "      <td>                             [Drama, Romance]</td>\n",
        "    </tr>\n",
        "    <tr>\n",
        "      <th>4186</th>\n",
        "      <td>                                     Umberto D.</td>\n",
        "      <td> 1952</td>\n",
        "      <td> 8.2</td>\n",
        "      <td>  89</td>\n",
        "      <td> 14859</td>\n",
        "      <td>                                      [Drama]</td>\n",
        "    </tr>\n",
        "    <tr>\n",
        "      <th>4215</th>\n",
        "      <td>                                 The Conformist</td>\n",
        "      <td> 1970</td>\n",
        "      <td> 8.1</td>\n",
        "      <td> 111</td>\n",
        "      <td> 14673</td>\n",
        "      <td>                                      [Drama]</td>\n",
        "    </tr>\n",
        "    <tr>\n",
        "      <th>4219</th>\n",
        "      <td>                                   Vivre Sa Vie</td>\n",
        "      <td> 1962</td>\n",
        "      <td> 8.1</td>\n",
        "      <td>  80</td>\n",
        "      <td> 14640</td>\n",
        "      <td>                                      [Drama]</td>\n",
        "    </tr>\n",
        "    <tr>\n",
        "      <th>4297</th>\n",
        "      <td>                                    The Leopard</td>\n",
        "      <td> 1963</td>\n",
        "      <td> 8.1</td>\n",
        "      <td> 187</td>\n",
        "      <td> 14191</td>\n",
        "      <td>                                      [Drama]</td>\n",
        "    </tr>\n",
        "    <tr>\n",
        "      <th>4303</th>\n",
        "      <td>                                      Viridiana</td>\n",
        "      <td> 1961</td>\n",
        "      <td> 8.3</td>\n",
        "      <td>  90</td>\n",
        "      <td> 14157</td>\n",
        "      <td>                                      [Drama]</td>\n",
        "    </tr>\n",
        "    <tr>\n",
        "      <th>4335</th>\n",
        "      <td>                           A Moment to Remember</td>\n",
        "      <td> 2004</td>\n",
        "      <td> 8.3</td>\n",
        "      <td> 117</td>\n",
        "      <td> 13965</td>\n",
        "      <td>                             [Drama, Romance]</td>\n",
        "    </tr>\n",
        "    <tr>\n",
        "      <th>4376</th>\n",
        "      <td>               The Chaos Class Failed the Class</td>\n",
        "      <td> 1976</td>\n",
        "      <td> 9.0</td>\n",
        "      <td>  91</td>\n",
        "      <td> 13753</td>\n",
        "      <td>                                     [Comedy]</td>\n",
        "    </tr>\n",
        "    <tr>\n",
        "      <th>4388</th>\n",
        "      <td>                              A Christmas Carol</td>\n",
        "      <td> 1951</td>\n",
        "      <td> 8.1</td>\n",
        "      <td>  86</td>\n",
        "      <td> 13679</td>\n",
        "      <td>                             [Drama, Fantasy]</td>\n",
        "    </tr>\n",
        "    <tr>\n",
        "      <th>4497</th>\n",
        "      <td>                         Through a Glass Darkly</td>\n",
        "      <td> 1961</td>\n",
        "      <td> 8.1</td>\n",
        "      <td>  89</td>\n",
        "      <td> 13088</td>\n",
        "      <td>                                      [Drama]</td>\n",
        "    </tr>\n",
        "    <tr>\n",
        "      <th>4502</th>\n",
        "      <td>                            The Army of Shadows</td>\n",
        "      <td> 1969</td>\n",
        "      <td> 8.2</td>\n",
        "      <td> 145</td>\n",
        "      <td> 13066</td>\n",
        "      <td>                                 [Drama, War]</td>\n",
        "    </tr>\n",
        "    <tr>\n",
        "      <th>4516</th>\n",
        "      <td>                                  Autumn Sonata</td>\n",
        "      <td> 1978</td>\n",
        "      <td> 8.2</td>\n",
        "      <td>  99</td>\n",
        "      <td> 12988</td>\n",
        "      <td>                               [Drama, Music]</td>\n",
        "    </tr>\n",
        "    <tr>\n",
        "      <th>4525</th>\n",
        "      <td>                                Le Cercle Rouge</td>\n",
        "      <td> 1970</td>\n",
        "      <td> 8.1</td>\n",
        "      <td> 140</td>\n",
        "      <td> 12920</td>\n",
        "      <td>                     [Crime, Drama, Thriller]</td>\n",
        "    </tr>\n",
        "    <tr>\n",
        "      <th>4592</th>\n",
        "      <td>                                           Darr</td>\n",
        "      <td> 1993</td>\n",
        "      <td> 8.1</td>\n",
        "      <td> 178</td>\n",
        "      <td> 12506</td>\n",
        "      <td>          [Drama, Mystery, Romance, Thriller]</td>\n",
        "    </tr>\n",
        "    <tr>\n",
        "      <th>4606</th>\n",
        "      <td>                                         Ugetsu</td>\n",
        "      <td> 1953</td>\n",
        "      <td> 8.2</td>\n",
        "      <td>  96</td>\n",
        "      <td> 12430</td>\n",
        "      <td>                    [Drama, Fantasy, Mystery]</td>\n",
        "    </tr>\n",
        "    <tr>\n",
        "      <th>4670</th>\n",
        "      <td>                                   Winter Light</td>\n",
        "      <td> 1963</td>\n",
        "      <td> 8.1</td>\n",
        "      <td>  81</td>\n",
        "      <td> 12089</td>\n",
        "      <td>                                      [Drama]</td>\n",
        "    </tr>\n",
        "    <tr>\n",
        "      <th>4674</th>\n",
        "      <td>                                  The Sacrifice</td>\n",
        "      <td> 1986</td>\n",
        "      <td> 8.1</td>\n",
        "      <td> 142</td>\n",
        "      <td> 12072</td>\n",
        "      <td>                                      [Drama]</td>\n",
        "    </tr>\n",
        "    <tr>\n",
        "      <th>4677</th>\n",
        "      <td>                            The Foster Brothers</td>\n",
        "      <td> 1976</td>\n",
        "      <td> 9.0</td>\n",
        "      <td>  80</td>\n",
        "      <td> 12047</td>\n",
        "      <td>                   [Comedy, Mystery, Romance]</td>\n",
        "    </tr>\n",
        "    <tr>\n",
        "      <th>4690</th>\n",
        "      <td>                                  Los Olvidados</td>\n",
        "      <td> 1950</td>\n",
        "      <td> 8.2</td>\n",
        "      <td>  85</td>\n",
        "      <td> 11986</td>\n",
        "      <td>                               [Crime, Drama]</td>\n",
        "    </tr>\n",
        "    <tr>\n",
        "      <th>4725</th>\n",
        "      <td>                                      Sarfarosh</td>\n",
        "      <td> 1999</td>\n",
        "      <td> 8.1</td>\n",
        "      <td> 174</td>\n",
        "      <td> 11830</td>\n",
        "      <td>                   [Action, Adventure, Drama]</td>\n",
        "    </tr>\n",
        "    <tr>\n",
        "      <th>4772</th>\n",
        "      <td>                    A Woman Under the Influence</td>\n",
        "      <td> 1974</td>\n",
        "      <td> 8.2</td>\n",
        "      <td> 155</td>\n",
        "      <td> 11584</td>\n",
        "      <td>                                      [Drama]</td>\n",
        "    </tr>\n",
        "    <tr>\n",
        "      <th>4780</th>\n",
        "      <td>                                  Wolf Children</td>\n",
        "      <td> 2012</td>\n",
        "      <td> 8.2</td>\n",
        "      <td> 117</td>\n",
        "      <td> 11571</td>\n",
        "      <td> [Animation, Drama, Family, Fantasy, Romance]</td>\n",
        "    </tr>\n",
        "    <tr>\n",
        "      <th>4784</th>\n",
        "      <td>                                      Limelight</td>\n",
        "      <td> 1952</td>\n",
        "      <td> 8.1</td>\n",
        "      <td> 137</td>\n",
        "      <td> 11511</td>\n",
        "      <td>                               [Drama, Music]</td>\n",
        "    </tr>\n",
        "    <tr>\n",
        "      <th>4822</th>\n",
        "      <td>                                Pather Panchali</td>\n",
        "      <td> 1955</td>\n",
        "      <td> 8.3</td>\n",
        "      <td> 119</td>\n",
        "      <td> 11423</td>\n",
        "      <td>                                      [Drama]</td>\n",
        "    </tr>\n",
        "    <tr>\n",
        "      <th>4848</th>\n",
        "      <td>                                          Yi Yi</td>\n",
        "      <td> 2000</td>\n",
        "      <td> 8.1</td>\n",
        "      <td> 173</td>\n",
        "      <td> 11296</td>\n",
        "      <td>                      [Drama, Music, Romance]</td>\n",
        "    </tr>\n",
        "    <tr>\n",
        "      <th>4920</th>\n",
        "      <td>                   The Chaos Class Is Waking Up</td>\n",
        "      <td> 1977</td>\n",
        "      <td> 8.9</td>\n",
        "      <td>  94</td>\n",
        "      <td> 10981</td>\n",
        "      <td>                                     [Comedy]</td>\n",
        "    </tr>\n",
        "    <tr>\n",
        "      <th>4925</th>\n",
        "      <td>                             The Miracle Worker</td>\n",
        "      <td> 1962</td>\n",
        "      <td> 8.1</td>\n",
        "      <td> 106</td>\n",
        "      <td> 10956</td>\n",
        "      <td>                           [Biography, Drama]</td>\n",
        "    </tr>\n",
        "    <tr>\n",
        "      <th>4936</th>\n",
        "      <td>                The King of the Street Cleaners</td>\n",
        "      <td> 1977</td>\n",
        "      <td> 8.7</td>\n",
        "      <td>  80</td>\n",
        "      <td> 10878</td>\n",
        "      <td>                            [Comedy, Romance]</td>\n",
        "    </tr>\n",
        "  </tbody>\n",
        "</table>\n",
        "</div>"
       ],
       "metadata": {},
       "output_type": "pyout",
       "prompt_number": 127,
       "text": [
        "                                               title  year  rating  runtime   vote                                         genre\n",
        "3586                                           Black  2005     8.3      122  19810                                       [Drama]\n",
        "3600                                      The Breath  2009     8.1      128  19689                [Action, Drama, Thriller, War]\n",
        "3605                            Lage Raho Munna Bhai  2006     8.2      144  19624                      [Comedy, Drama, Romance]\n",
        "3650                                    Fitzcarraldo  1982     8.1      158  19149                 [Adventure, Biography, Drama]\n",
        "3675                                      About Elly  2009     8.2      119  18916                              [Drama, Mystery]\n",
        "3692                                Inherit the Wind  1960     8.2      128  18699                              [Drama, History]\n",
        "3711                           Raise the Red Lantern  1991     8.2      125  18579                                       [Drama]\n",
        "3723                                 OMG: Oh My God!  2012     8.2      125  18471              [Comedy, Drama, Family, Fantasy]\n",
        "3743                                      Hera Pheri  2000     8.5      156  18191                     [Comedy, Crime, Thriller]\n",
        "3756                                Jean de Florette  1986     8.1      120  18023                                       [Drama]\n",
        "3811                          Sweet Smell of Success  1957     8.2       96  17624                            [Drama, Film-Noir]\n",
        "3822                                      The Mirror  1975     8.1      108  17497                            [Biography, Drama]\n",
        "3827                           Cries &#x26; Whispers  1972     8.1       91  17443                                       [Drama]\n",
        "3847                         The Exterminating Angel  1962     8.1       95  17361             [Comedy, Drama, Fantasy, Mystery]\n",
        "3856                                         Sanjuro  1962     8.2       96  17249                     [Action, Drama, Thriller]\n",
        "3916                            The Twilight Samurai  2002     8.2      129  16765                              [Drama, Romance]\n",
        "3921                                Paan Singh Tomar  2012     8.3      135  16746   [Action, Biography, Crime, Sport, Thriller]\n",
        "3929                               The Virgin Spring  1960     8.1       89  16639                                       [Drama]\n",
        "3934                                 Ace in the Hole  1951     8.2      111  16603                            [Drama, Film-Noir]\n",
        "3950                                           Dev D  2009     8.1      144  16507                      [Comedy, Drama, Romance]\n",
        "3975                                          Rififi  1955     8.2      122  16347                      [Crime, Drama, Thriller]\n",
        "4003  Neon Genesis Evangelion: The End of Evangelion  1997     8.2       90  16191   [Animation, Action, Drama, Fantasy, Sci-Fi]\n",
        "4019                                     Dersu Uzala  1975     8.3      144  16072                 [Adventure, Biography, Drama]\n",
        "4033                                        Harakiri  1962     8.6      133  15951                      [Action, Drama, History]\n",
        "4043                                               Z  1969     8.2      127  15881    [Crime, Drama, History, Mystery, Thriller]\n",
        "4052                                    High and Low  1963     8.4      143  15811             [Crime, Drama, Mystery, Thriller]\n",
        "4072                             Time of the Gypsies  1988     8.3      142  15690               [Comedy, Crime, Drama, Fantasy]\n",
        "4074                                    Nobody Knows  2004     8.1      141  15670                                       [Drama]\n",
        "4127                           Ivan&#x27;s Childhood  1962     8.1       95  15282                                  [Drama, War]\n",
        "4136                           Farewell My Concubine  1993     8.1      171  15164                       [Drama, Music, Romance]\n",
        "4137                             Manon of the Spring  1986     8.1      113  15158                                       [Drama]\n",
        "4183                               The Best of Youth  2003     8.5      383  14894                              [Drama, Romance]\n",
        "4186                                      Umberto D.  1952     8.2       89  14859                                       [Drama]\n",
        "4215                                  The Conformist  1970     8.1      111  14673                                       [Drama]\n",
        "4219                                    Vivre Sa Vie  1962     8.1       80  14640                                       [Drama]\n",
        "4297                                     The Leopard  1963     8.1      187  14191                                       [Drama]\n",
        "4303                                       Viridiana  1961     8.3       90  14157                                       [Drama]\n",
        "4335                            A Moment to Remember  2004     8.3      117  13965                              [Drama, Romance]\n",
        "4376                The Chaos Class Failed the Class  1976     9.0       91  13753                                      [Comedy]\n",
        "4388                               A Christmas Carol  1951     8.1       86  13679                              [Drama, Fantasy]\n",
        "4497                          Through a Glass Darkly  1961     8.1       89  13088                                       [Drama]\n",
        "4502                             The Army of Shadows  1969     8.2      145  13066                                  [Drama, War]\n",
        "4516                                   Autumn Sonata  1978     8.2       99  12988                                [Drama, Music]\n",
        "4525                                 Le Cercle Rouge  1970     8.1      140  12920                      [Crime, Drama, Thriller]\n",
        "4592                                            Darr  1993     8.1      178  12506           [Drama, Mystery, Romance, Thriller]\n",
        "4606                                          Ugetsu  1953     8.2       96  12430                     [Drama, Fantasy, Mystery]\n",
        "4670                                    Winter Light  1963     8.1       81  12089                                       [Drama]\n",
        "4674                                   The Sacrifice  1986     8.1      142  12072                                       [Drama]\n",
        "4677                             The Foster Brothers  1976     9.0       80  12047                    [Comedy, Mystery, Romance]\n",
        "4690                                   Los Olvidados  1950     8.2       85  11986                                [Crime, Drama]\n",
        "4725                                       Sarfarosh  1999     8.1      174  11830                    [Action, Adventure, Drama]\n",
        "4772                     A Woman Under the Influence  1974     8.2      155  11584                                       [Drama]\n",
        "4780                                   Wolf Children  2012     8.2      117  11571  [Animation, Drama, Family, Fantasy, Romance]\n",
        "4784                                       Limelight  1952     8.1      137  11511                                [Drama, Music]\n",
        "4822                                 Pather Panchali  1955     8.3      119  11423                                       [Drama]\n",
        "4848                                           Yi Yi  2000     8.1      173  11296                       [Drama, Music, Romance]\n",
        "4920                    The Chaos Class Is Waking Up  1977     8.9       94  10981                                      [Comedy]\n",
        "4925                              The Miracle Worker  1962     8.1      106  10956                            [Biography, Drama]\n",
        "4936                 The King of the Street Cleaners  1977     8.7       80  10878                             [Comedy, Romance]"
       ]
      }
     ],
     "prompt_number": 127
    },
    {
     "cell_type": "code",
     "collapsed": false,
     "input": [
      "for year, subset in movieDF.groupby('year'):\n",
      "    print year, subset[subset.rating == subset.rating.max()].title.values"
     ],
     "language": "python",
     "metadata": {},
     "outputs": [
      {
       "output_type": "stream",
       "stream": "stdout",
       "text": [
        "1950 [u'Sunset Blvd.']\n",
        "1951 [u'Ace in the Hole']\n",
        "1952 [u'Singin&#x27; in the Rain']\n",
        "1953 [u'The Wages of Fear' u'Tokyo Story']\n",
        "1954 [u'Seven Samurai']\n",
        "1955 [u'Pather Panchali']\n",
        "1956 [u'The Killing']\n",
        "1957 [u'12 Angry Men']\n",
        "1958 "
       ]
      },
      {
       "output_type": "stream",
       "stream": "stdout",
       "text": [
        "[u'Vertigo']\n",
        "1959 [u'North by Northwest']\n",
        "1960 [u'Psycho']\n",
        "1961 [u'Yojimbo']\n",
        "1962 [u'Harakiri']\n",
        "1963 [u'High and Low']\n",
        "1964 [u'Dr. Strangelove or: How I Learned to Stop Worrying and Love the Bomb']\n",
        "1965 [u'For a Few Dollars More']\n",
        "1966 [u'The Good, the Bad and the Ugly']\n",
        "1967 [u'Cool Hand Luke']\n",
        "1968 [u'Once Upon a Time in the West']\n",
        "1969 [u'Butch Cassidy and the Sundance Kid' u'Z' u'The Army of Shadows']\n",
        "1970 [u'The Conformist' u'Le Cercle Rouge']\n",
        "1971 [u'A Clockwork Orange']\n",
        "1972 [u'The Godfather']\n",
        "1973 [u'The Sting']\n",
        "1974 [u'The Godfather: Part II']\n",
        "1975 [u'One Flew Over the Cuckoo&#x27;s Nest']\n",
        "1976 [u'The Chaos Class Failed the Class' u'The Foster Brothers']\n",
        "1977 [u'The Chaos Class Is Waking Up']\n",
        "1978 [u'The Deer Hunter' u'Autumn Sonata']\n",
        "1979 "
       ]
      },
      {
       "output_type": "stream",
       "stream": "stdout",
       "text": [
        "[u'Alien' u'Apocalypse Now']\n",
        "1980 [u'Star Wars: Episode V - The Empire Strikes Back']\n",
        "1981 [u'Raiders of the Lost Ark']\n",
        "1982 [u'Blade Runner' u'The Thing' u'Fanny and Alexander']\n",
        "1983 [u'Star Wars: Episode VI - Return of the Jedi']\n",
        "1984 [u'Amadeus' u'Once Upon a Time in America']\n",
        "1985 [u'Back to the Future']\n",
        "1986 [u'Aliens']\n",
        "1987 [u'Full Metal Jacket']\n",
        "1988 [u'Cinema Paradiso' u'Grave of the Fireflies']\n",
        "1989 [u'Indiana Jones and the Last Crusade']\n",
        "1990 [u'Goodfellas']\n",
        "1991 [u'The Silence of the Lambs']\n",
        "1992 [u'Reservoir Dogs']\n",
        "1993 [u'Schindler&#x27;s List']\n",
        "1994 [u'The Shawshank Redemption']\n",
        "1995 [u'Se7en' u'The Usual Suspects']\n",
        "1996 [u'The Bandit']\n",
        "1997 [u'Life Is Beautiful']\n",
        "1998 [u'Saving Private Ryan' u'American History X']\n",
        "1999 [u'Fight Club']\n",
        "2000 [u'Gladiator' u'Memento' u'Hera Pheri']\n",
        "2001 [u'The Lord of the Rings: The Fellowship of the Ring']\n",
        "2002 "
       ]
      },
      {
       "output_type": "stream",
       "stream": "stdout",
       "text": [
        "[u'The Lord of the Rings: The Two Towers']\n",
        "2003 [u'The Lord of the Rings: The Return of the King']\n",
        "2004 [u'Eternal Sunshine of the Spotless Mind' u'Swades']\n",
        "2005 [u'Batman Begins' u'Black']\n",
        "2006 [u'The Departed' u'The Prestige' u'The Lives of Others']\n",
        "2007 [u'Like Stars on Earth']\n",
        "2008 [u'The Dark Knight']\n",
        "2009 [u'3 Idiots']\n",
        "2010 [u'Inception']\n",
        "2011 [u'The Intouchables']\n",
        "2012 [u'The Dark Knight Rises' u'Django Unchained']\n"
       ]
      }
     ],
     "prompt_number": 130
    },
    {
     "cell_type": "code",
     "collapsed": false,
     "input": [
      "fig, axes = plt.subplots(nrows=4, ncols=6, figsize=(12, 8), \n",
      "                         tight_layout=True)\n",
      "\n",
      "bins = np.arange(1950,2012,3)\n",
      "for ax, genre in zip(axes.ravel(), movieGenre):\n",
      "    ax.hist(movieDF[movieDF['%s'%genre]==1].year, bins=bins, histtype='stepfilled', normed=True, color='r', alpha=.3, ec='None')\n",
      "    ax.hist(movieDF.year, bins=bins, histtype='stepfilled', ec='None', normed=True, zorder=0, color='grey')\n",
      "    ax.annotate(genre, xy=(1955, 3e-2), fontsize=14)\n",
      "    ax.xaxis.set_ticks(np.arange(1950, 2013, 30))\n",
      "    ax.set_yticks([])\n",
      "    remove_border(ax, left=False)\n",
      "    ax.set_xlabel('Year')"
     ],
     "language": "python",
     "metadata": {},
     "outputs": [
      {
       "ename": "KeyError",
       "evalue": "0",
       "output_type": "pyerr",
       "traceback": [
        "\u001b[0;31m---------------------------------------------------------------------------\u001b[0m\n\u001b[0;31mKeyError\u001b[0m                                  Traceback (most recent call last)",
        "\u001b[0;32m<ipython-input-158-c2e7c2737372>\u001b[0m in \u001b[0;36m<module>\u001b[0;34m()\u001b[0m\n\u001b[1;32m      4\u001b[0m \u001b[0mbins\u001b[0m \u001b[0;34m=\u001b[0m \u001b[0mnp\u001b[0m\u001b[0;34m.\u001b[0m\u001b[0marange\u001b[0m\u001b[0;34m(\u001b[0m\u001b[0;36m1950\u001b[0m\u001b[0;34m,\u001b[0m\u001b[0;36m2012\u001b[0m\u001b[0;34m,\u001b[0m\u001b[0;36m3\u001b[0m\u001b[0;34m)\u001b[0m\u001b[0;34m\u001b[0m\u001b[0m\n\u001b[1;32m      5\u001b[0m \u001b[0;32mfor\u001b[0m \u001b[0max\u001b[0m\u001b[0;34m,\u001b[0m \u001b[0mgenre\u001b[0m \u001b[0;32min\u001b[0m \u001b[0mzip\u001b[0m\u001b[0;34m(\u001b[0m\u001b[0maxes\u001b[0m\u001b[0;34m.\u001b[0m\u001b[0mravel\u001b[0m\u001b[0;34m(\u001b[0m\u001b[0;34m)\u001b[0m\u001b[0;34m,\u001b[0m \u001b[0mmovieGenre\u001b[0m\u001b[0;34m)\u001b[0m\u001b[0;34m:\u001b[0m\u001b[0;34m\u001b[0m\u001b[0m\n\u001b[0;32m----> 6\u001b[0;31m     \u001b[0max\u001b[0m\u001b[0;34m.\u001b[0m\u001b[0mhist\u001b[0m\u001b[0;34m(\u001b[0m\u001b[0mmovieDF\u001b[0m\u001b[0;34m[\u001b[0m\u001b[0mmovieDF\u001b[0m\u001b[0;34m[\u001b[0m\u001b[0;34m'%s'\u001b[0m\u001b[0;34m%\u001b[0m\u001b[0mgenre\u001b[0m\u001b[0;34m]\u001b[0m\u001b[0;34m==\u001b[0m\u001b[0;36m1\u001b[0m\u001b[0;34m]\u001b[0m\u001b[0;34m.\u001b[0m\u001b[0myear\u001b[0m\u001b[0;34m,\u001b[0m \u001b[0mbins\u001b[0m\u001b[0;34m=\u001b[0m\u001b[0mbins\u001b[0m\u001b[0;34m,\u001b[0m \u001b[0mhisttype\u001b[0m\u001b[0;34m=\u001b[0m\u001b[0;34m'stepfilled'\u001b[0m\u001b[0;34m,\u001b[0m \u001b[0mnormed\u001b[0m\u001b[0;34m=\u001b[0m\u001b[0mTrue\u001b[0m\u001b[0;34m,\u001b[0m \u001b[0mcolor\u001b[0m\u001b[0;34m=\u001b[0m\u001b[0;34m'r'\u001b[0m\u001b[0;34m,\u001b[0m \u001b[0malpha\u001b[0m\u001b[0;34m=\u001b[0m\u001b[0;36m.3\u001b[0m\u001b[0;34m,\u001b[0m \u001b[0mec\u001b[0m\u001b[0;34m=\u001b[0m\u001b[0;34m'None'\u001b[0m\u001b[0;34m)\u001b[0m\u001b[0;34m\u001b[0m\u001b[0m\n\u001b[0m\u001b[1;32m      7\u001b[0m     \u001b[0max\u001b[0m\u001b[0;34m.\u001b[0m\u001b[0mhist\u001b[0m\u001b[0;34m(\u001b[0m\u001b[0mmovieDF\u001b[0m\u001b[0;34m.\u001b[0m\u001b[0myear\u001b[0m\u001b[0;34m,\u001b[0m \u001b[0mbins\u001b[0m\u001b[0;34m=\u001b[0m\u001b[0mbins\u001b[0m\u001b[0;34m,\u001b[0m \u001b[0mhisttype\u001b[0m\u001b[0;34m=\u001b[0m\u001b[0;34m'stepfilled'\u001b[0m\u001b[0;34m,\u001b[0m \u001b[0mec\u001b[0m\u001b[0;34m=\u001b[0m\u001b[0;34m'None'\u001b[0m\u001b[0;34m,\u001b[0m \u001b[0mnormed\u001b[0m\u001b[0;34m=\u001b[0m\u001b[0mTrue\u001b[0m\u001b[0;34m,\u001b[0m \u001b[0mzorder\u001b[0m\u001b[0;34m=\u001b[0m\u001b[0;36m0\u001b[0m\u001b[0;34m,\u001b[0m \u001b[0mcolor\u001b[0m\u001b[0;34m=\u001b[0m\u001b[0;34m'grey'\u001b[0m\u001b[0;34m)\u001b[0m\u001b[0;34m\u001b[0m\u001b[0m\n\u001b[1;32m      8\u001b[0m     \u001b[0max\u001b[0m\u001b[0;34m.\u001b[0m\u001b[0mannotate\u001b[0m\u001b[0;34m(\u001b[0m\u001b[0mgenre\u001b[0m\u001b[0;34m,\u001b[0m \u001b[0mxy\u001b[0m\u001b[0;34m=\u001b[0m\u001b[0;34m(\u001b[0m\u001b[0;36m1955\u001b[0m\u001b[0;34m,\u001b[0m \u001b[0;36m3e-2\u001b[0m\u001b[0;34m)\u001b[0m\u001b[0;34m,\u001b[0m \u001b[0mfontsize\u001b[0m\u001b[0;34m=\u001b[0m\u001b[0;36m14\u001b[0m\u001b[0;34m)\u001b[0m\u001b[0;34m\u001b[0m\u001b[0m\n",
        "\u001b[0;32m/Users/tridibdutta/Library/Enthought/Canopy_64bit/User/lib/python2.7/site-packages/matplotlib/axes.pyc\u001b[0m in \u001b[0;36mhist\u001b[0;34m(self, x, bins, range, normed, weights, cumulative, bottom, histtype, align, orientation, rwidth, log, color, label, stacked, **kwargs)\u001b[0m\n\u001b[1;32m   8247\u001b[0m         \u001b[0;31m# Massage 'x' for processing.\u001b[0m\u001b[0;34m\u001b[0m\u001b[0;34m\u001b[0m\u001b[0m\n\u001b[1;32m   8248\u001b[0m         \u001b[0;31m# NOTE: Be sure any changes here is also done below to 'weights'\u001b[0m\u001b[0;34m\u001b[0m\u001b[0;34m\u001b[0m\u001b[0m\n\u001b[0;32m-> 8249\u001b[0;31m         \u001b[0;32mif\u001b[0m \u001b[0misinstance\u001b[0m\u001b[0;34m(\u001b[0m\u001b[0mx\u001b[0m\u001b[0;34m,\u001b[0m \u001b[0mnp\u001b[0m\u001b[0;34m.\u001b[0m\u001b[0mndarray\u001b[0m\u001b[0;34m)\u001b[0m \u001b[0;32mor\u001b[0m \u001b[0;32mnot\u001b[0m \u001b[0miterable\u001b[0m\u001b[0;34m(\u001b[0m\u001b[0mx\u001b[0m\u001b[0;34m[\u001b[0m\u001b[0;36m0\u001b[0m\u001b[0;34m]\u001b[0m\u001b[0;34m)\u001b[0m\u001b[0;34m:\u001b[0m\u001b[0;34m\u001b[0m\u001b[0m\n\u001b[0m\u001b[1;32m   8250\u001b[0m             \u001b[0;31m# TODO: support masked arrays;\u001b[0m\u001b[0;34m\u001b[0m\u001b[0;34m\u001b[0m\u001b[0m\n\u001b[1;32m   8251\u001b[0m             \u001b[0mx\u001b[0m \u001b[0;34m=\u001b[0m \u001b[0mnp\u001b[0m\u001b[0;34m.\u001b[0m\u001b[0masarray\u001b[0m\u001b[0;34m(\u001b[0m\u001b[0mx\u001b[0m\u001b[0;34m)\u001b[0m\u001b[0;34m\u001b[0m\u001b[0m\n",
        "\u001b[0;32m/Users/tridibdutta/Library/Enthought/Canopy_64bit/User/lib/python2.7/site-packages/pandas/core/series.pyc\u001b[0m in \u001b[0;36m__getitem__\u001b[0;34m(self, key)\u001b[0m\n\u001b[1;32m    477\u001b[0m     \u001b[0;32mdef\u001b[0m \u001b[0m__getitem__\u001b[0m\u001b[0;34m(\u001b[0m\u001b[0mself\u001b[0m\u001b[0;34m,\u001b[0m \u001b[0mkey\u001b[0m\u001b[0;34m)\u001b[0m\u001b[0;34m:\u001b[0m\u001b[0;34m\u001b[0m\u001b[0m\n\u001b[1;32m    478\u001b[0m         \u001b[0;32mtry\u001b[0m\u001b[0;34m:\u001b[0m\u001b[0;34m\u001b[0m\u001b[0m\n\u001b[0;32m--> 479\u001b[0;31m             \u001b[0mresult\u001b[0m \u001b[0;34m=\u001b[0m \u001b[0mself\u001b[0m\u001b[0;34m.\u001b[0m\u001b[0mindex\u001b[0m\u001b[0;34m.\u001b[0m\u001b[0mget_value\u001b[0m\u001b[0;34m(\u001b[0m\u001b[0mself\u001b[0m\u001b[0;34m,\u001b[0m \u001b[0mkey\u001b[0m\u001b[0;34m)\u001b[0m\u001b[0;34m\u001b[0m\u001b[0m\n\u001b[0m\u001b[1;32m    480\u001b[0m \u001b[0;34m\u001b[0m\u001b[0m\n\u001b[1;32m    481\u001b[0m             \u001b[0;32mif\u001b[0m \u001b[0;32mnot\u001b[0m \u001b[0mnp\u001b[0m\u001b[0;34m.\u001b[0m\u001b[0misscalar\u001b[0m\u001b[0;34m(\u001b[0m\u001b[0mresult\u001b[0m\u001b[0;34m)\u001b[0m\u001b[0;34m:\u001b[0m\u001b[0;34m\u001b[0m\u001b[0m\n",
        "\u001b[0;32m/Users/tridibdutta/Library/Enthought/Canopy_64bit/User/lib/python2.7/site-packages/pandas/core/index.pyc\u001b[0m in \u001b[0;36mget_value\u001b[0;34m(self, series, key)\u001b[0m\n\u001b[1;32m   1169\u001b[0m \u001b[0;34m\u001b[0m\u001b[0m\n\u001b[1;32m   1170\u001b[0m         \u001b[0;32mtry\u001b[0m\u001b[0;34m:\u001b[0m\u001b[0;34m\u001b[0m\u001b[0m\n\u001b[0;32m-> 1171\u001b[0;31m             \u001b[0;32mreturn\u001b[0m \u001b[0mself\u001b[0m\u001b[0;34m.\u001b[0m\u001b[0m_engine\u001b[0m\u001b[0;34m.\u001b[0m\u001b[0mget_value\u001b[0m\u001b[0;34m(\u001b[0m\u001b[0ms\u001b[0m\u001b[0;34m,\u001b[0m \u001b[0mk\u001b[0m\u001b[0;34m)\u001b[0m\u001b[0;34m\u001b[0m\u001b[0m\n\u001b[0m\u001b[1;32m   1172\u001b[0m         \u001b[0;32mexcept\u001b[0m \u001b[0mKeyError\u001b[0m \u001b[0;32mas\u001b[0m \u001b[0me1\u001b[0m\u001b[0;34m:\u001b[0m\u001b[0;34m\u001b[0m\u001b[0m\n\u001b[1;32m   1173\u001b[0m             \u001b[0;32mif\u001b[0m \u001b[0mlen\u001b[0m\u001b[0;34m(\u001b[0m\u001b[0mself\u001b[0m\u001b[0;34m)\u001b[0m \u001b[0;34m>\u001b[0m \u001b[0;36m0\u001b[0m \u001b[0;32mand\u001b[0m \u001b[0mself\u001b[0m\u001b[0;34m.\u001b[0m\u001b[0minferred_type\u001b[0m \u001b[0;34m==\u001b[0m \u001b[0;34m'integer'\u001b[0m\u001b[0;34m:\u001b[0m\u001b[0;34m\u001b[0m\u001b[0m\n",
        "\u001b[0;32m/Users/tridibdutta/Library/Enthought/Canopy_64bit/User/lib/python2.7/site-packages/pandas/index.so\u001b[0m in \u001b[0;36mpandas.index.IndexEngine.get_value (pandas/index.c:2679)\u001b[0;34m()\u001b[0m\n",
        "\u001b[0;32m/Users/tridibdutta/Library/Enthought/Canopy_64bit/User/lib/python2.7/site-packages/pandas/index.so\u001b[0m in \u001b[0;36mpandas.index.IndexEngine.get_value (pandas/index.c:2494)\u001b[0;34m()\u001b[0m\n",
        "\u001b[0;32m/Users/tridibdutta/Library/Enthought/Canopy_64bit/User/lib/python2.7/site-packages/pandas/index.so\u001b[0m in \u001b[0;36mpandas.index.IndexEngine.get_loc (pandas/index.c:3233)\u001b[0;34m()\u001b[0m\n",
        "\u001b[0;32m/Users/tridibdutta/Library/Enthought/Canopy_64bit/User/lib/python2.7/site-packages/pandas/hashtable.so\u001b[0m in \u001b[0;36mpandas.hashtable.Int64HashTable.get_item (pandas/hashtable.c:6540)\u001b[0;34m()\u001b[0m\n",
        "\u001b[0;32m/Users/tridibdutta/Library/Enthought/Canopy_64bit/User/lib/python2.7/site-packages/pandas/hashtable.so\u001b[0m in \u001b[0;36mpandas.hashtable.Int64HashTable.get_item (pandas/hashtable.c:6484)\u001b[0;34m()\u001b[0m\n",
        "\u001b[0;31mKeyError\u001b[0m: 0"
       ]
      },
      {
       "metadata": {},
       "output_type": "display_data",
       "png": "[encoded data removed]",
       "text": [
        "<matplotlib.figure.Figure at 0x143f6e8d0>"
       ]
      }
     ],
     "prompt_number": 158
    },
    {
     "cell_type": "code",
     "collapsed": false,
     "input": [
      "movieDF.to_csv('movieDF_1950_2012.csv',sep='\\t')"
     ],
     "language": "python",
     "metadata": {},
     "outputs": [],
     "prompt_number": 159
    },
    {
     "cell_type": "code",
     "collapsed": false,
     "input": [
      "movieGenre"
     ],
     "language": "python",
     "metadata": {},
     "outputs": [
      {
       "ename": "NameError",
       "evalue": "name 'movieGenre' is not defined",
       "output_type": "pyerr",
       "traceback": [
        "\u001b[0;31m---------------------------------------------------------------------------\u001b[0m\n\u001b[0;31mNameError\u001b[0m                                 Traceback (most recent call last)",
        "\u001b[0;32m<ipython-input-1-8e5e46f26785>\u001b[0m in \u001b[0;36m<module>\u001b[0;34m()\u001b[0m\n\u001b[0;32m----> 1\u001b[0;31m \u001b[0mmovieGenre\u001b[0m\u001b[0;34m\u001b[0m\u001b[0m\n\u001b[0m",
        "\u001b[0;31mNameError\u001b[0m: name 'movieGenre' is not defined"
       ]
      }
     ],
     "prompt_number": 1
    },
    {
     "cell_type": "code",
     "collapsed": false,
     "input": [],
     "language": "python",
     "metadata": {},
     "outputs": []
    }
   ],
   "metadata": {}
  }
 ]
}